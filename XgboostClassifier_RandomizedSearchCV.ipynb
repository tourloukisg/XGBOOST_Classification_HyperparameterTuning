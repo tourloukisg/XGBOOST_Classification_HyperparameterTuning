{
 "cells": [
  {
   "cell_type": "markdown",
   "metadata": {},
   "source": [
    "# XgboostClassifier_RandomizedSearchCV\n",
    "\n",
    "**--------------------------------------------------------------------------------------------------------------------------**\n",
    "**--------------------------------------------------------------------------------------------------------------------------**\n",
    "**--------------------------------------------------------------------------------------------------------------------------**\n",
    "**---------------------------------------------------**\n",
    "\n",
    "\n",
    "**STRUCTURE**\n",
    "\n",
    "*In this notebook, the use of the 'xgboost' algorithm for classification is demonstrated. The scope of this case study is to predict whether an asteroid can be hazardous or not based on its characteristics/properties(NASA Asteroid dataset). In the first part of this project a feature selection takes place so as to identify the dataset features that are to be used as inputs to the model and to drop all the uneccesary columns. In addition a mini exploratory analysis is provided that includes a) a heatmap of the correlations between the dataset features, b) a plot of the correlation between the output (dependent) parameter and each input (independent) feature and c) a countplot to observe whether the classes of the output feature are balanced or not.*\n",
    "\n",
    "*In the second part of this project there is use of the 'RandomizedSearchCV' and 'XGBClassifier' function. 'RandomizedSearchCV' function takes as input a set of values for each of the selected 'xgboost' model hyperparameters and does a randomized search (fit & score approach) so as to determine an optimal value for each of them. In contrast to 'GridSearchCV', randomized search combines the hyperparameters values randomly (whereas in 'GridSearchCV' all possible combinations are tested) based on the parameters distribution. Tuning the values of hyperparameters (learning rate,max depth,min_child_weight,gamma,etc.) is important as it can improve the model training performance and avoid/minimize overfitting (by making the model less sensitive to noise and by contolling the complexity of its structure). The optimal hyperparameter values determined by the random search  are then used by the 'xgboost' classifier for fitting (training set) and prediction (test set). 'Xgboost' is an ensemble supervised machine learning algorithm (based on decision trees) that tries to reduce the residuals (difference between target and predicted values) of the previous tree each time a new tree is added (similar to 'Gradient Boosting') and it is also capable of reducing the computational complexity and time of the training compared to other machine learning models (data storage in CPU cache).*\n",
    "\n",
    "\n",
    "\n",
    "\n",
    "**The Dataset (.csv file format) for this project has been obtained from Kaggle:**\n",
    "\n",
    "\"*NASA: Asteroids Classification*\" -- File: \"nasa.csv\" -- Source:https://www.kaggle.com/shrutimehta/nasa-asteroids-classification\n",
    "\n"
   ]
  },
  {
   "cell_type": "markdown",
   "metadata": {},
   "source": [
    "## Part A"
   ]
  },
  {
   "cell_type": "code",
   "execution_count": 1,
   "metadata": {},
   "outputs": [],
   "source": [
    "# Importing the Libraries\n",
    "import numpy as np\n",
    "import pandas as pd\n",
    "import matplotlib.pyplot as plt\n",
    "import seaborn as sns\n",
    "import warnings\n",
    "warnings.filterwarnings('ignore')"
   ]
  },
  {
   "cell_type": "code",
   "execution_count": 2,
   "metadata": {},
   "outputs": [
    {
     "data": {
      "text/html": [
       "<div>\n",
       "<style scoped>\n",
       "    .dataframe tbody tr th:only-of-type {\n",
       "        vertical-align: middle;\n",
       "    }\n",
       "\n",
       "    .dataframe tbody tr th {\n",
       "        vertical-align: top;\n",
       "    }\n",
       "\n",
       "    .dataframe thead th {\n",
       "        text-align: right;\n",
       "    }\n",
       "</style>\n",
       "<table border=\"1\" class=\"dataframe\">\n",
       "  <thead>\n",
       "    <tr style=\"text-align: right;\">\n",
       "      <th></th>\n",
       "      <th>Neo Reference ID</th>\n",
       "      <th>Name</th>\n",
       "      <th>Absolute Magnitude</th>\n",
       "      <th>Est Dia in KM(min)</th>\n",
       "      <th>Est Dia in KM(max)</th>\n",
       "      <th>Est Dia in M(min)</th>\n",
       "      <th>Est Dia in M(max)</th>\n",
       "      <th>Est Dia in Miles(min)</th>\n",
       "      <th>Est Dia in Miles(max)</th>\n",
       "      <th>Est Dia in Feet(min)</th>\n",
       "      <th>...</th>\n",
       "      <th>Asc Node Longitude</th>\n",
       "      <th>Orbital Period</th>\n",
       "      <th>Perihelion Distance</th>\n",
       "      <th>Perihelion Arg</th>\n",
       "      <th>Aphelion Dist</th>\n",
       "      <th>Perihelion Time</th>\n",
       "      <th>Mean Anomaly</th>\n",
       "      <th>Mean Motion</th>\n",
       "      <th>Equinox</th>\n",
       "      <th>Hazardous</th>\n",
       "    </tr>\n",
       "  </thead>\n",
       "  <tbody>\n",
       "    <tr>\n",
       "      <th>0</th>\n",
       "      <td>3703080</td>\n",
       "      <td>3703080</td>\n",
       "      <td>21.6</td>\n",
       "      <td>0.127220</td>\n",
       "      <td>0.284472</td>\n",
       "      <td>127.219879</td>\n",
       "      <td>284.472297</td>\n",
       "      <td>0.079051</td>\n",
       "      <td>0.176763</td>\n",
       "      <td>417.388066</td>\n",
       "      <td>...</td>\n",
       "      <td>314.373913</td>\n",
       "      <td>609.599786</td>\n",
       "      <td>0.808259</td>\n",
       "      <td>57.257470</td>\n",
       "      <td>2.005764</td>\n",
       "      <td>2.458162e+06</td>\n",
       "      <td>264.837533</td>\n",
       "      <td>0.590551</td>\n",
       "      <td>J2000</td>\n",
       "      <td>True</td>\n",
       "    </tr>\n",
       "    <tr>\n",
       "      <th>1</th>\n",
       "      <td>3723955</td>\n",
       "      <td>3723955</td>\n",
       "      <td>21.3</td>\n",
       "      <td>0.146068</td>\n",
       "      <td>0.326618</td>\n",
       "      <td>146.067964</td>\n",
       "      <td>326.617897</td>\n",
       "      <td>0.090762</td>\n",
       "      <td>0.202951</td>\n",
       "      <td>479.225620</td>\n",
       "      <td>...</td>\n",
       "      <td>136.717242</td>\n",
       "      <td>425.869294</td>\n",
       "      <td>0.718200</td>\n",
       "      <td>313.091975</td>\n",
       "      <td>1.497352</td>\n",
       "      <td>2.457795e+06</td>\n",
       "      <td>173.741112</td>\n",
       "      <td>0.845330</td>\n",
       "      <td>J2000</td>\n",
       "      <td>False</td>\n",
       "    </tr>\n",
       "    <tr>\n",
       "      <th>2</th>\n",
       "      <td>2446862</td>\n",
       "      <td>2446862</td>\n",
       "      <td>20.3</td>\n",
       "      <td>0.231502</td>\n",
       "      <td>0.517654</td>\n",
       "      <td>231.502122</td>\n",
       "      <td>517.654482</td>\n",
       "      <td>0.143849</td>\n",
       "      <td>0.321655</td>\n",
       "      <td>759.521423</td>\n",
       "      <td>...</td>\n",
       "      <td>259.475979</td>\n",
       "      <td>643.580228</td>\n",
       "      <td>0.950791</td>\n",
       "      <td>248.415038</td>\n",
       "      <td>1.966857</td>\n",
       "      <td>2.458120e+06</td>\n",
       "      <td>292.893654</td>\n",
       "      <td>0.559371</td>\n",
       "      <td>J2000</td>\n",
       "      <td>True</td>\n",
       "    </tr>\n",
       "    <tr>\n",
       "      <th>3</th>\n",
       "      <td>3092506</td>\n",
       "      <td>3092506</td>\n",
       "      <td>27.4</td>\n",
       "      <td>0.008801</td>\n",
       "      <td>0.019681</td>\n",
       "      <td>8.801465</td>\n",
       "      <td>19.680675</td>\n",
       "      <td>0.005469</td>\n",
       "      <td>0.012229</td>\n",
       "      <td>28.876199</td>\n",
       "      <td>...</td>\n",
       "      <td>57.173266</td>\n",
       "      <td>514.082140</td>\n",
       "      <td>0.983902</td>\n",
       "      <td>18.707701</td>\n",
       "      <td>1.527904</td>\n",
       "      <td>2.457902e+06</td>\n",
       "      <td>68.741007</td>\n",
       "      <td>0.700277</td>\n",
       "      <td>J2000</td>\n",
       "      <td>False</td>\n",
       "    </tr>\n",
       "    <tr>\n",
       "      <th>4</th>\n",
       "      <td>3514799</td>\n",
       "      <td>3514799</td>\n",
       "      <td>21.6</td>\n",
       "      <td>0.127220</td>\n",
       "      <td>0.284472</td>\n",
       "      <td>127.219879</td>\n",
       "      <td>284.472297</td>\n",
       "      <td>0.079051</td>\n",
       "      <td>0.176763</td>\n",
       "      <td>417.388066</td>\n",
       "      <td>...</td>\n",
       "      <td>84.629307</td>\n",
       "      <td>495.597821</td>\n",
       "      <td>0.967687</td>\n",
       "      <td>158.263596</td>\n",
       "      <td>1.483543</td>\n",
       "      <td>2.457814e+06</td>\n",
       "      <td>135.142133</td>\n",
       "      <td>0.726395</td>\n",
       "      <td>J2000</td>\n",
       "      <td>True</td>\n",
       "    </tr>\n",
       "  </tbody>\n",
       "</table>\n",
       "<p>5 rows × 40 columns</p>\n",
       "</div>"
      ],
      "text/plain": [
       "   Neo Reference ID     Name  Absolute Magnitude  Est Dia in KM(min)  \\\n",
       "0           3703080  3703080                21.6            0.127220   \n",
       "1           3723955  3723955                21.3            0.146068   \n",
       "2           2446862  2446862                20.3            0.231502   \n",
       "3           3092506  3092506                27.4            0.008801   \n",
       "4           3514799  3514799                21.6            0.127220   \n",
       "\n",
       "   Est Dia in KM(max)  Est Dia in M(min)  Est Dia in M(max)  \\\n",
       "0            0.284472         127.219879         284.472297   \n",
       "1            0.326618         146.067964         326.617897   \n",
       "2            0.517654         231.502122         517.654482   \n",
       "3            0.019681           8.801465          19.680675   \n",
       "4            0.284472         127.219879         284.472297   \n",
       "\n",
       "   Est Dia in Miles(min)  Est Dia in Miles(max)  Est Dia in Feet(min)  ...  \\\n",
       "0               0.079051               0.176763            417.388066  ...   \n",
       "1               0.090762               0.202951            479.225620  ...   \n",
       "2               0.143849               0.321655            759.521423  ...   \n",
       "3               0.005469               0.012229             28.876199  ...   \n",
       "4               0.079051               0.176763            417.388066  ...   \n",
       "\n",
       "   Asc Node Longitude Orbital Period  Perihelion Distance  Perihelion Arg  \\\n",
       "0          314.373913     609.599786             0.808259       57.257470   \n",
       "1          136.717242     425.869294             0.718200      313.091975   \n",
       "2          259.475979     643.580228             0.950791      248.415038   \n",
       "3           57.173266     514.082140             0.983902       18.707701   \n",
       "4           84.629307     495.597821             0.967687      158.263596   \n",
       "\n",
       "   Aphelion Dist  Perihelion Time  Mean Anomaly  Mean Motion  Equinox  \\\n",
       "0       2.005764     2.458162e+06    264.837533     0.590551    J2000   \n",
       "1       1.497352     2.457795e+06    173.741112     0.845330    J2000   \n",
       "2       1.966857     2.458120e+06    292.893654     0.559371    J2000   \n",
       "3       1.527904     2.457902e+06     68.741007     0.700277    J2000   \n",
       "4       1.483543     2.457814e+06    135.142133     0.726395    J2000   \n",
       "\n",
       "   Hazardous  \n",
       "0       True  \n",
       "1      False  \n",
       "2       True  \n",
       "3      False  \n",
       "4       True  \n",
       "\n",
       "[5 rows x 40 columns]"
      ]
     },
     "execution_count": 2,
     "metadata": {},
     "output_type": "execute_result"
    }
   ],
   "source": [
    "# Importing the dataset\n",
    "data=pd.read_csv('nasa.csv')\n",
    "# Dataset First 5 records\n",
    "data.head()"
   ]
  },
  {
   "cell_type": "code",
   "execution_count": 3,
   "metadata": {},
   "outputs": [
    {
     "data": {
      "text/plain": [
       "Index(['Neo Reference ID', 'Name', 'Absolute Magnitude', 'Est Dia in KM(min)',\n",
       "       'Est Dia in KM(max)', 'Est Dia in M(min)', 'Est Dia in M(max)',\n",
       "       'Est Dia in Miles(min)', 'Est Dia in Miles(max)',\n",
       "       'Est Dia in Feet(min)', 'Est Dia in Feet(max)', 'Close Approach Date',\n",
       "       'Epoch Date Close Approach', 'Relative Velocity km per sec',\n",
       "       'Relative Velocity km per hr', 'Miles per hour',\n",
       "       'Miss Dist.(Astronomical)', 'Miss Dist.(lunar)',\n",
       "       'Miss Dist.(kilometers)', 'Miss Dist.(miles)', 'Orbiting Body',\n",
       "       'Orbit ID', 'Orbit Determination Date', 'Orbit Uncertainity',\n",
       "       'Minimum Orbit Intersection', 'Jupiter Tisserand Invariant',\n",
       "       'Epoch Osculation', 'Eccentricity', 'Semi Major Axis', 'Inclination',\n",
       "       'Asc Node Longitude', 'Orbital Period', 'Perihelion Distance',\n",
       "       'Perihelion Arg', 'Aphelion Dist', 'Perihelion Time', 'Mean Anomaly',\n",
       "       'Mean Motion', 'Equinox', 'Hazardous'],\n",
       "      dtype='object')"
      ]
     },
     "execution_count": 3,
     "metadata": {},
     "output_type": "execute_result"
    }
   ],
   "source": [
    "# Dataset columns\n",
    "data.columns"
   ]
  },
  {
   "cell_type": "code",
   "execution_count": 4,
   "metadata": {
    "scrolled": false
   },
   "outputs": [
    {
     "name": "stdout",
     "output_type": "stream",
     "text": [
      "<class 'pandas.core.frame.DataFrame'>\n",
      "RangeIndex: 4687 entries, 0 to 4686\n",
      "Data columns (total 40 columns):\n",
      " #   Column                        Non-Null Count  Dtype  \n",
      "---  ------                        --------------  -----  \n",
      " 0   Neo Reference ID              4687 non-null   int64  \n",
      " 1   Name                          4687 non-null   int64  \n",
      " 2   Absolute Magnitude            4687 non-null   float64\n",
      " 3   Est Dia in KM(min)            4687 non-null   float64\n",
      " 4   Est Dia in KM(max)            4687 non-null   float64\n",
      " 5   Est Dia in M(min)             4687 non-null   float64\n",
      " 6   Est Dia in M(max)             4687 non-null   float64\n",
      " 7   Est Dia in Miles(min)         4687 non-null   float64\n",
      " 8   Est Dia in Miles(max)         4687 non-null   float64\n",
      " 9   Est Dia in Feet(min)          4687 non-null   float64\n",
      " 10  Est Dia in Feet(max)          4687 non-null   float64\n",
      " 11  Close Approach Date           4687 non-null   object \n",
      " 12  Epoch Date Close Approach     4687 non-null   int64  \n",
      " 13  Relative Velocity km per sec  4687 non-null   float64\n",
      " 14  Relative Velocity km per hr   4687 non-null   float64\n",
      " 15  Miles per hour                4687 non-null   float64\n",
      " 16  Miss Dist.(Astronomical)      4687 non-null   float64\n",
      " 17  Miss Dist.(lunar)             4687 non-null   float64\n",
      " 18  Miss Dist.(kilometers)        4687 non-null   float64\n",
      " 19  Miss Dist.(miles)             4687 non-null   float64\n",
      " 20  Orbiting Body                 4687 non-null   object \n",
      " 21  Orbit ID                      4687 non-null   int64  \n",
      " 22  Orbit Determination Date      4687 non-null   object \n",
      " 23  Orbit Uncertainity            4687 non-null   int64  \n",
      " 24  Minimum Orbit Intersection    4687 non-null   float64\n",
      " 25  Jupiter Tisserand Invariant   4687 non-null   float64\n",
      " 26  Epoch Osculation              4687 non-null   float64\n",
      " 27  Eccentricity                  4687 non-null   float64\n",
      " 28  Semi Major Axis               4687 non-null   float64\n",
      " 29  Inclination                   4687 non-null   float64\n",
      " 30  Asc Node Longitude            4687 non-null   float64\n",
      " 31  Orbital Period                4687 non-null   float64\n",
      " 32  Perihelion Distance           4687 non-null   float64\n",
      " 33  Perihelion Arg                4687 non-null   float64\n",
      " 34  Aphelion Dist                 4687 non-null   float64\n",
      " 35  Perihelion Time               4687 non-null   float64\n",
      " 36  Mean Anomaly                  4687 non-null   float64\n",
      " 37  Mean Motion                   4687 non-null   float64\n",
      " 38  Equinox                       4687 non-null   object \n",
      " 39  Hazardous                     4687 non-null   bool   \n",
      "dtypes: bool(1), float64(30), int64(5), object(4)\n",
      "memory usage: 1.4+ MB\n"
     ]
    }
   ],
   "source": [
    "# Dataset Info\n",
    "data.info()"
   ]
  },
  {
   "cell_type": "code",
   "execution_count": 5,
   "metadata": {},
   "outputs": [],
   "source": [
    "# In this classification example, the model has to learn to classify whether an asteroid is hazardous or not based on its\n",
    "# characteristics/properties (without knowning its name or reference id). For this reason, the 'Neo Reference ID'  and 'Name'\n",
    "# columns are to be dropped from the dataset.\n",
    "data=data.drop(['Neo Reference ID','Name'],axis=1)"
   ]
  },
  {
   "cell_type": "code",
   "execution_count": 6,
   "metadata": {},
   "outputs": [],
   "source": [
    "# Date features are also dropped from the dataset\n",
    "data=data.drop(['Close Approach Date','Orbit Determination Date'],axis=1)"
   ]
  },
  {
   "cell_type": "code",
   "execution_count": 7,
   "metadata": {},
   "outputs": [
    {
     "data": {
      "text/plain": [
       "Earth    4687\n",
       "Name: Orbiting Body, dtype: int64"
      ]
     },
     "execution_count": 7,
     "metadata": {},
     "output_type": "execute_result"
    }
   ],
   "source": [
    "# This column has only one class ('Earth'), therefore it is not going to contribute during the training, thus it will be dropped\n",
    "data['Orbiting Body'].value_counts()"
   ]
  },
  {
   "cell_type": "code",
   "execution_count": 8,
   "metadata": {},
   "outputs": [
    {
     "data": {
      "text/plain": [
       "J2000    4687\n",
       "Name: Equinox, dtype: int64"
      ]
     },
     "execution_count": 8,
     "metadata": {},
     "output_type": "execute_result"
    }
   ],
   "source": [
    "# This column has also only one class('J2000'),therefore it is also going to be dropped\n",
    "data['Equinox'].value_counts()"
   ]
  },
  {
   "cell_type": "code",
   "execution_count": 9,
   "metadata": {},
   "outputs": [],
   "source": [
    "# Dropping 'Orbiting Body' and 'Equinox' columns from the dataset\n",
    "data=data.drop(['Orbiting Body','Equinox'],axis=1)"
   ]
  },
  {
   "cell_type": "code",
   "execution_count": 10,
   "metadata": {},
   "outputs": [
    {
     "data": {
      "text/html": [
       "<div>\n",
       "<style scoped>\n",
       "    .dataframe tbody tr th:only-of-type {\n",
       "        vertical-align: middle;\n",
       "    }\n",
       "\n",
       "    .dataframe tbody tr th {\n",
       "        vertical-align: top;\n",
       "    }\n",
       "\n",
       "    .dataframe thead th {\n",
       "        text-align: right;\n",
       "    }\n",
       "</style>\n",
       "<table border=\"1\" class=\"dataframe\">\n",
       "  <thead>\n",
       "    <tr style=\"text-align: right;\">\n",
       "      <th></th>\n",
       "      <th>Absolute_Magnitude</th>\n",
       "      <th>Est_Dia_in_KM(min)</th>\n",
       "      <th>Est_Dia_in_KM(max)</th>\n",
       "      <th>Est_Dia_in_M(min)</th>\n",
       "      <th>Est_Dia_in_M(max)</th>\n",
       "      <th>Est_Dia_in_Miles(min)</th>\n",
       "      <th>Est_Dia_in_Miles(max)</th>\n",
       "      <th>Est_Dia_in_Feet(min)</th>\n",
       "      <th>Est_Dia_in_Feet(max)</th>\n",
       "      <th>Epoch_Date_Close_Approach</th>\n",
       "      <th>...</th>\n",
       "      <th>Inclination</th>\n",
       "      <th>Asc_Node_Longitude</th>\n",
       "      <th>Orbital_Period</th>\n",
       "      <th>Perihelion_Distance</th>\n",
       "      <th>Perihelion_Arg</th>\n",
       "      <th>Aphelion_Dist</th>\n",
       "      <th>Perihelion_Time</th>\n",
       "      <th>Mean_Anomaly</th>\n",
       "      <th>Mean_Motion</th>\n",
       "      <th>Hazardous</th>\n",
       "    </tr>\n",
       "  </thead>\n",
       "  <tbody>\n",
       "    <tr>\n",
       "      <th>0</th>\n",
       "      <td>21.6</td>\n",
       "      <td>0.127220</td>\n",
       "      <td>0.284472</td>\n",
       "      <td>127.219879</td>\n",
       "      <td>284.472297</td>\n",
       "      <td>0.079051</td>\n",
       "      <td>0.176763</td>\n",
       "      <td>417.388066</td>\n",
       "      <td>933.308089</td>\n",
       "      <td>788947200000</td>\n",
       "      <td>...</td>\n",
       "      <td>6.025981</td>\n",
       "      <td>314.373913</td>\n",
       "      <td>609.599786</td>\n",
       "      <td>0.808259</td>\n",
       "      <td>57.257470</td>\n",
       "      <td>2.005764</td>\n",
       "      <td>2.458162e+06</td>\n",
       "      <td>264.837533</td>\n",
       "      <td>0.590551</td>\n",
       "      <td>True</td>\n",
       "    </tr>\n",
       "    <tr>\n",
       "      <th>1</th>\n",
       "      <td>21.3</td>\n",
       "      <td>0.146068</td>\n",
       "      <td>0.326618</td>\n",
       "      <td>146.067964</td>\n",
       "      <td>326.617897</td>\n",
       "      <td>0.090762</td>\n",
       "      <td>0.202951</td>\n",
       "      <td>479.225620</td>\n",
       "      <td>1071.581063</td>\n",
       "      <td>788947200000</td>\n",
       "      <td>...</td>\n",
       "      <td>28.412996</td>\n",
       "      <td>136.717242</td>\n",
       "      <td>425.869294</td>\n",
       "      <td>0.718200</td>\n",
       "      <td>313.091975</td>\n",
       "      <td>1.497352</td>\n",
       "      <td>2.457795e+06</td>\n",
       "      <td>173.741112</td>\n",
       "      <td>0.845330</td>\n",
       "      <td>False</td>\n",
       "    </tr>\n",
       "    <tr>\n",
       "      <th>2</th>\n",
       "      <td>20.3</td>\n",
       "      <td>0.231502</td>\n",
       "      <td>0.517654</td>\n",
       "      <td>231.502122</td>\n",
       "      <td>517.654482</td>\n",
       "      <td>0.143849</td>\n",
       "      <td>0.321655</td>\n",
       "      <td>759.521423</td>\n",
       "      <td>1698.341531</td>\n",
       "      <td>789552000000</td>\n",
       "      <td>...</td>\n",
       "      <td>4.237961</td>\n",
       "      <td>259.475979</td>\n",
       "      <td>643.580228</td>\n",
       "      <td>0.950791</td>\n",
       "      <td>248.415038</td>\n",
       "      <td>1.966857</td>\n",
       "      <td>2.458120e+06</td>\n",
       "      <td>292.893654</td>\n",
       "      <td>0.559371</td>\n",
       "      <td>True</td>\n",
       "    </tr>\n",
       "    <tr>\n",
       "      <th>3</th>\n",
       "      <td>27.4</td>\n",
       "      <td>0.008801</td>\n",
       "      <td>0.019681</td>\n",
       "      <td>8.801465</td>\n",
       "      <td>19.680675</td>\n",
       "      <td>0.005469</td>\n",
       "      <td>0.012229</td>\n",
       "      <td>28.876199</td>\n",
       "      <td>64.569144</td>\n",
       "      <td>790156800000</td>\n",
       "      <td>...</td>\n",
       "      <td>7.905894</td>\n",
       "      <td>57.173266</td>\n",
       "      <td>514.082140</td>\n",
       "      <td>0.983902</td>\n",
       "      <td>18.707701</td>\n",
       "      <td>1.527904</td>\n",
       "      <td>2.457902e+06</td>\n",
       "      <td>68.741007</td>\n",
       "      <td>0.700277</td>\n",
       "      <td>False</td>\n",
       "    </tr>\n",
       "    <tr>\n",
       "      <th>4</th>\n",
       "      <td>21.6</td>\n",
       "      <td>0.127220</td>\n",
       "      <td>0.284472</td>\n",
       "      <td>127.219879</td>\n",
       "      <td>284.472297</td>\n",
       "      <td>0.079051</td>\n",
       "      <td>0.176763</td>\n",
       "      <td>417.388066</td>\n",
       "      <td>933.308089</td>\n",
       "      <td>790156800000</td>\n",
       "      <td>...</td>\n",
       "      <td>16.793382</td>\n",
       "      <td>84.629307</td>\n",
       "      <td>495.597821</td>\n",
       "      <td>0.967687</td>\n",
       "      <td>158.263596</td>\n",
       "      <td>1.483543</td>\n",
       "      <td>2.457814e+06</td>\n",
       "      <td>135.142133</td>\n",
       "      <td>0.726395</td>\n",
       "      <td>True</td>\n",
       "    </tr>\n",
       "  </tbody>\n",
       "</table>\n",
       "<p>5 rows × 34 columns</p>\n",
       "</div>"
      ],
      "text/plain": [
       "   Absolute_Magnitude  Est_Dia_in_KM(min)  Est_Dia_in_KM(max)  \\\n",
       "0                21.6            0.127220            0.284472   \n",
       "1                21.3            0.146068            0.326618   \n",
       "2                20.3            0.231502            0.517654   \n",
       "3                27.4            0.008801            0.019681   \n",
       "4                21.6            0.127220            0.284472   \n",
       "\n",
       "   Est_Dia_in_M(min)  Est_Dia_in_M(max)  Est_Dia_in_Miles(min)  \\\n",
       "0         127.219879         284.472297               0.079051   \n",
       "1         146.067964         326.617897               0.090762   \n",
       "2         231.502122         517.654482               0.143849   \n",
       "3           8.801465          19.680675               0.005469   \n",
       "4         127.219879         284.472297               0.079051   \n",
       "\n",
       "   Est_Dia_in_Miles(max)  Est_Dia_in_Feet(min)  Est_Dia_in_Feet(max)  \\\n",
       "0               0.176763            417.388066            933.308089   \n",
       "1               0.202951            479.225620           1071.581063   \n",
       "2               0.321655            759.521423           1698.341531   \n",
       "3               0.012229             28.876199             64.569144   \n",
       "4               0.176763            417.388066            933.308089   \n",
       "\n",
       "   Epoch_Date_Close_Approach  ...  Inclination  Asc_Node_Longitude  \\\n",
       "0               788947200000  ...     6.025981          314.373913   \n",
       "1               788947200000  ...    28.412996          136.717242   \n",
       "2               789552000000  ...     4.237961          259.475979   \n",
       "3               790156800000  ...     7.905894           57.173266   \n",
       "4               790156800000  ...    16.793382           84.629307   \n",
       "\n",
       "   Orbital_Period  Perihelion_Distance  Perihelion_Arg  Aphelion_Dist  \\\n",
       "0      609.599786             0.808259       57.257470       2.005764   \n",
       "1      425.869294             0.718200      313.091975       1.497352   \n",
       "2      643.580228             0.950791      248.415038       1.966857   \n",
       "3      514.082140             0.983902       18.707701       1.527904   \n",
       "4      495.597821             0.967687      158.263596       1.483543   \n",
       "\n",
       "   Perihelion_Time  Mean_Anomaly  Mean_Motion  Hazardous  \n",
       "0     2.458162e+06    264.837533     0.590551       True  \n",
       "1     2.457795e+06    173.741112     0.845330      False  \n",
       "2     2.458120e+06    292.893654     0.559371       True  \n",
       "3     2.457902e+06     68.741007     0.700277      False  \n",
       "4     2.457814e+06    135.142133     0.726395       True  \n",
       "\n",
       "[5 rows x 34 columns]"
      ]
     },
     "execution_count": 10,
     "metadata": {},
     "output_type": "execute_result"
    }
   ],
   "source": [
    "# Replacing the white space in column names with underscore\n",
    "data.columns=data.columns.str.replace(' ','_')\n",
    "data.head()"
   ]
  },
  {
   "cell_type": "code",
   "execution_count": 11,
   "metadata": {},
   "outputs": [
    {
     "data": {
      "text/plain": [
       "<AxesSubplot:>"
      ]
     },
     "execution_count": 11,
     "metadata": {},
     "output_type": "execute_result"
    },
    {
     "data": {
      "image/png": "[encoded data removed]",
      "text/plain": [
       "<Figure size 1008x720 with 2 Axes>"
      ]
     },
     "metadata": {
      "needs_background": "light"
     },
     "output_type": "display_data"
    }
   ],
   "source": [
    "# Heatmap displaying the correlations between the dataset features. \n",
    "plt.figure(figsize=(14,10))\n",
    "sns.heatmap(data.corr(),cmap='plasma')"
   ]
  },
  {
   "cell_type": "code",
   "execution_count": 12,
   "metadata": {},
   "outputs": [
    {
     "data": {
      "text/plain": [
       "Text(0.5, 1.0, \"Correlations of the numerical variables to 'Hazardous' feature\")"
      ]
     },
     "execution_count": 12,
     "metadata": {},
     "output_type": "execute_result"
    },
    {
     "data": {
      "image/png": "[encoded data removed]",
      "text/plain": [
       "<Figure size 1008x360 with 1 Axes>"
      ]
     },
     "metadata": {
      "needs_background": "light"
     },
     "output_type": "display_data"
    }
   ],
   "source": [
    "# Bar plot showing the correlations between the 'Hazardous' feature and the other numerical variables. \n",
    "# Correlation varies between -1 and 1, where a) values close to 1 indicate positive correlation, b) values close to -1\n",
    "# indicate negative correlation between two variables.\n",
    "plt.figure(figsize=(14,5))\n",
    "plt.rcParams['font.size']=12\n",
    "data.corr()['Hazardous'].sort_values().drop('Hazardous').plot(kind='bar')\n",
    "plt.title(\"Correlations of the numerical variables to 'Hazardous' feature\")"
   ]
  },
  {
   "cell_type": "code",
   "execution_count": 13,
   "metadata": {
    "scrolled": true
   },
   "outputs": [
    {
     "data": {
      "image/png": "[encoded data removed]",
      "text/plain": [
       "<Figure size 720x432 with 1 Axes>"
      ]
     },
     "metadata": {
      "needs_background": "light"
     },
     "output_type": "display_data"
    }
   ],
   "source": [
    "# Due to the boolean nature of the dependent(output) parameter (Hazardous:True/False), the countplot is \n",
    "# employed to observe whether or not the data samples are balanced with respect to the 'Hazardous' feature entries.\n",
    "# As expected, the majority of the Asteroids are not Hazardous (83.89%). Therefore,the classification should not be based\n",
    "# on accuracy as the model would be 83.89% accurate, but on other relevant metrics such as precision,recall and F1-Score\n",
    "plt.figure(figsize=(10,6))\n",
    "total = len(data['Hazardous'])\n",
    "count_entries=sns.countplot(x='Hazardous',data=data)\n",
    "plt.xlabel('Hazardous',fontweight='bold')\n",
    "plt.ylabel('Count',fontweight='bold')\n",
    "for p in count_entries.patches:\n",
    "    count_entries.annotate('{:.2f}%'.format(100*p.get_height()/total), (p.get_x() + p.get_width() / 2., p.get_height()), \n",
    "                               ha = 'center', va = 'center', xytext = (0, -20), textcoords = 'offset points')"
   ]
  },
  {
   "cell_type": "markdown",
   "metadata": {},
   "source": [
    "## Part B"
   ]
  },
  {
   "cell_type": "code",
   "execution_count": 14,
   "metadata": {},
   "outputs": [],
   "source": [
    "# XGBOOST model independent(input) & dependent(output) features\n",
    "X=data.drop('Hazardous',axis=1).values\n",
    "y=data['Hazardous'].values"
   ]
  },
  {
   "cell_type": "code",
   "execution_count": 15,
   "metadata": {},
   "outputs": [],
   "source": [
    "# Data are to be used for training and for validation purposes, thus the necessary libraries and functions are imported\n",
    "from sklearn.model_selection import train_test_split\n",
    "# Data are split for training and testing,test_size =0.25 which means 25% of the dataset will be used for validation purposes\n",
    "# to assess the model performance\n",
    "X_train, X_test, y_train, y_test = train_test_split(X, y,test_size=0.25, random_state=0)\n"
   ]
  },
  {
   "cell_type": "code",
   "execution_count": 16,
   "metadata": {
    "scrolled": false
   },
   "outputs": [
    {
     "name": "stdout",
     "output_type": "stream",
     "text": [
      "0.16\n",
      "0.16\n"
     ]
    }
   ],
   "source": [
    "# As it can be observed, the percentage of 'Hazardous ==True' for the y_train samples is the same with the y_test samples,\n",
    "# (i.e.for both train and test sets)\n",
    "print(round(len(y_train[y_train==True])/len(y_train),2))\n",
    "print(round(len(y_test[y_test==True])/len(y_test),2))"
   ]
  },
  {
   "cell_type": "code",
   "execution_count": 18,
   "metadata": {},
   "outputs": [],
   "source": [
    "# Optimizing the hyperparameters by selecting different values for each hyperparameter. Then by applying Random Search, the \n",
    "# model will try to determine the optimal values for all parameters\n",
    "opt_parameters={\n",
    " \"learning_rate\"    : [0.001,0.005,0.01,0.05,0.10, 0.15, 0.20,0.25,0.3,0.35],#Learning_Rate:the step size at every iteration\n",
    " \"max_depth\"        : [ 2,3,4,5,6,7,8,9,10,11,12,13,14],#max_depth: max tree depth (very high values can lead to overfitting)\n",
    " \"min_child_weight\" : [ 1,2,3,4,5,6],# min_child_weight:minimum samples number in each node\n",
    " \"gamma\"            : [ 0,0.05, 0.1,0.15, 0.2,0.25,0.3,0.35,0.4,0.45,0.5],#gamma:higher gamma value --> higher regularization\n",
    "'colsample_bylevel' : [ 0.3,0.4, 0.5,0.6,0.7],#colsample_bytree:columns subsample ratio for each level\n",
    "'colsample_bynode'  : [ 0.3,0.4, 0.5,0.6,0.7],#colsample_bynode:columns subsample ratio for each split\n",
    "'colsample_bytree'  : [ 0.3,0.4, 0.5,0.6,0.7]}#colsample_bytree:feature percentage for building each tree"
   ]
  },
  {
   "cell_type": "code",
   "execution_count": 19,
   "metadata": {},
   "outputs": [],
   "source": [
    "## Hyperparameter optimization using RandomizedSearchCV\n",
    "from sklearn.model_selection import RandomizedSearchCV"
   ]
  },
  {
   "cell_type": "code",
   "execution_count": 20,
   "metadata": {},
   "outputs": [],
   "source": [
    "# Importing xgboost classifier fit the model to the training set\n",
    "from xgboost import XGBClassifier\n",
    "xgboost_clf=XGBClassifier()"
   ]
  },
  {
   "cell_type": "code",
   "execution_count": 22,
   "metadata": {},
   "outputs": [],
   "source": [
    "# Use of RandomizedSearchCV function that takes as inputs the classifier, the parameters that are to be optimized, the\n",
    "#  number of iterations, the score metric and the cross validation number\n",
    "rand_search=RandomizedSearchCV(xgboost_clf,param_distributions=opt_parameters,n_iter=7,scoring='roc_auc',\n",
    "                                 cv=10,verbose=3)"
   ]
  },
  {
   "cell_type": "code",
   "execution_count": 23,
   "metadata": {},
   "outputs": [
    {
     "name": "stdout",
     "output_type": "stream",
     "text": [
      "Fitting 10 folds for each of 7 candidates, totalling 70 fits\n",
      "[CV] min_child_weight=6, max_depth=6, learning_rate=0.001, gamma=0.45, colsample_bytree=0.6, colsample_bynode=0.5, colsample_bylevel=0.3 \n",
      "[02:27:52] WARNING: C:/Users/Administrator/workspace/xgboost-win64_release_1.3.0/src/learner.cc:1061: Starting in XGBoost 1.3.0, the default evaluation metric used with the objective 'binary:logistic' was changed from 'error' to 'logloss'. Explicitly set eval_metric if you'd like to restore the old behavior.\n",
      "[CV]  min_child_weight=6, max_depth=6, learning_rate=0.001, gamma=0.45, colsample_bytree=0.6, colsample_bynode=0.5, colsample_bylevel=0.3, score=0.998, total=   0.1s\n",
      "[CV] min_child_weight=6, max_depth=6, learning_rate=0.001, gamma=0.45, colsample_bytree=0.6, colsample_bynode=0.5, colsample_bylevel=0.3 \n",
      "[02:27:52] WARNING: C:/Users/Administrator/workspace/xgboost-win64_release_1.3.0/src/learner.cc:1061: Starting in XGBoost 1.3.0, the default evaluation metric used with the objective 'binary:logistic' was changed from 'error' to 'logloss'. Explicitly set eval_metric if you'd like to restore the old behavior.\n"
     ]
    },
    {
     "name": "stderr",
     "output_type": "stream",
     "text": [
      "[Parallel(n_jobs=1)]: Using backend SequentialBackend with 1 concurrent workers.\n",
      "[Parallel(n_jobs=1)]: Done   1 out of   1 | elapsed:    0.0s remaining:    0.0s\n"
     ]
    },
    {
     "name": "stdout",
     "output_type": "stream",
     "text": [
      "[CV]  min_child_weight=6, max_depth=6, learning_rate=0.001, gamma=0.45, colsample_bytree=0.6, colsample_bynode=0.5, colsample_bylevel=0.3, score=0.988, total=   0.1s\n",
      "[CV] min_child_weight=6, max_depth=6, learning_rate=0.001, gamma=0.45, colsample_bytree=0.6, colsample_bynode=0.5, colsample_bylevel=0.3 \n",
      "[02:27:53] WARNING: C:/Users/Administrator/workspace/xgboost-win64_release_1.3.0/src/learner.cc:1061: Starting in XGBoost 1.3.0, the default evaluation metric used with the objective 'binary:logistic' was changed from 'error' to 'logloss'. Explicitly set eval_metric if you'd like to restore the old behavior.\n",
      "[CV]  min_child_weight=6, max_depth=6, learning_rate=0.001, gamma=0.45, colsample_bytree=0.6, colsample_bynode=0.5, colsample_bylevel=0.3, score=0.992, total=   0.1s\n",
      "[CV] min_child_weight=6, max_depth=6, learning_rate=0.001, gamma=0.45, colsample_bytree=0.6, colsample_bynode=0.5, colsample_bylevel=0.3 \n",
      "[02:27:53] WARNING: C:/Users/Administrator/workspace/xgboost-win64_release_1.3.0/src/learner.cc:1061: Starting in XGBoost 1.3.0, the default evaluation metric used with the objective 'binary:logistic' was changed from 'error' to 'logloss'. Explicitly set eval_metric if you'd like to restore the old behavior.\n"
     ]
    },
    {
     "name": "stderr",
     "output_type": "stream",
     "text": [
      "[Parallel(n_jobs=1)]: Done   2 out of   2 | elapsed:    0.2s remaining:    0.0s\n"
     ]
    },
    {
     "name": "stdout",
     "output_type": "stream",
     "text": [
      "[CV]  min_child_weight=6, max_depth=6, learning_rate=0.001, gamma=0.45, colsample_bytree=0.6, colsample_bynode=0.5, colsample_bylevel=0.3, score=0.984, total=   0.1s\n",
      "[CV] min_child_weight=6, max_depth=6, learning_rate=0.001, gamma=0.45, colsample_bytree=0.6, colsample_bynode=0.5, colsample_bylevel=0.3 \n",
      "[02:27:53] WARNING: C:/Users/Administrator/workspace/xgboost-win64_release_1.3.0/src/learner.cc:1061: Starting in XGBoost 1.3.0, the default evaluation metric used with the objective 'binary:logistic' was changed from 'error' to 'logloss'. Explicitly set eval_metric if you'd like to restore the old behavior.\n",
      "[CV]  min_child_weight=6, max_depth=6, learning_rate=0.001, gamma=0.45, colsample_bytree=0.6, colsample_bynode=0.5, colsample_bylevel=0.3, score=0.999, total=   0.1s\n",
      "[CV] min_child_weight=6, max_depth=6, learning_rate=0.001, gamma=0.45, colsample_bytree=0.6, colsample_bynode=0.5, colsample_bylevel=0.3 \n",
      "[02:27:53] WARNING: C:/Users/Administrator/workspace/xgboost-win64_release_1.3.0/src/learner.cc:1061: Starting in XGBoost 1.3.0, the default evaluation metric used with the objective 'binary:logistic' was changed from 'error' to 'logloss'. Explicitly set eval_metric if you'd like to restore the old behavior.\n",
      "[CV]  min_child_weight=6, max_depth=6, learning_rate=0.001, gamma=0.45, colsample_bytree=0.6, colsample_bynode=0.5, colsample_bylevel=0.3, score=0.994, total=   0.1s\n",
      "[CV] min_child_weight=6, max_depth=6, learning_rate=0.001, gamma=0.45, colsample_bytree=0.6, colsample_bynode=0.5, colsample_bylevel=0.3 \n",
      "[02:27:53] WARNING: C:/Users/Administrator/workspace/xgboost-win64_release_1.3.0/src/learner.cc:1061: Starting in XGBoost 1.3.0, the default evaluation metric used with the objective 'binary:logistic' was changed from 'error' to 'logloss'. Explicitly set eval_metric if you'd like to restore the old behavior.\n",
      "[CV]  min_child_weight=6, max_depth=6, learning_rate=0.001, gamma=0.45, colsample_bytree=0.6, colsample_bynode=0.5, colsample_bylevel=0.3, score=0.999, total=   0.1s\n",
      "[CV] min_child_weight=6, max_depth=6, learning_rate=0.001, gamma=0.45, colsample_bytree=0.6, colsample_bynode=0.5, colsample_bylevel=0.3 \n",
      "[02:27:53] WARNING: C:/Users/Administrator/workspace/xgboost-win64_release_1.3.0/src/learner.cc:1061: Starting in XGBoost 1.3.0, the default evaluation metric used with the objective 'binary:logistic' was changed from 'error' to 'logloss'. Explicitly set eval_metric if you'd like to restore the old behavior.\n",
      "[CV]  min_child_weight=6, max_depth=6, learning_rate=0.001, gamma=0.45, colsample_bytree=0.6, colsample_bynode=0.5, colsample_bylevel=0.3, score=0.994, total=   0.1s\n",
      "[CV] min_child_weight=6, max_depth=6, learning_rate=0.001, gamma=0.45, colsample_bytree=0.6, colsample_bynode=0.5, colsample_bylevel=0.3 \n",
      "[02:27:53] WARNING: C:/Users/Administrator/workspace/xgboost-win64_release_1.3.0/src/learner.cc:1061: Starting in XGBoost 1.3.0, the default evaluation metric used with the objective 'binary:logistic' was changed from 'error' to 'logloss'. Explicitly set eval_metric if you'd like to restore the old behavior.\n",
      "[CV]  min_child_weight=6, max_depth=6, learning_rate=0.001, gamma=0.45, colsample_bytree=0.6, colsample_bynode=0.5, colsample_bylevel=0.3, score=0.988, total=   0.1s\n",
      "[CV] min_child_weight=6, max_depth=6, learning_rate=0.001, gamma=0.45, colsample_bytree=0.6, colsample_bynode=0.5, colsample_bylevel=0.3 \n",
      "[02:27:53] WARNING: C:/Users/Administrator/workspace/xgboost-win64_release_1.3.0/src/learner.cc:1061: Starting in XGBoost 1.3.0, the default evaluation metric used with the objective 'binary:logistic' was changed from 'error' to 'logloss'. Explicitly set eval_metric if you'd like to restore the old behavior.\n",
      "[CV]  min_child_weight=6, max_depth=6, learning_rate=0.001, gamma=0.45, colsample_bytree=0.6, colsample_bynode=0.5, colsample_bylevel=0.3, score=0.990, total=   0.1s\n",
      "[CV] min_child_weight=1, max_depth=8, learning_rate=0.1, gamma=0.35, colsample_bytree=0.7, colsample_bynode=0.3, colsample_bylevel=0.7 \n",
      "[02:27:54] WARNING: C:/Users/Administrator/workspace/xgboost-win64_release_1.3.0/src/learner.cc:1061: Starting in XGBoost 1.3.0, the default evaluation metric used with the objective 'binary:logistic' was changed from 'error' to 'logloss'. Explicitly set eval_metric if you'd like to restore the old behavior.\n",
      "[CV]  min_child_weight=1, max_depth=8, learning_rate=0.1, gamma=0.35, colsample_bytree=0.7, colsample_bynode=0.3, colsample_bylevel=0.7, score=1.000, total=   0.1s\n",
      "[CV] min_child_weight=1, max_depth=8, learning_rate=0.1, gamma=0.35, colsample_bytree=0.7, colsample_bynode=0.3, colsample_bylevel=0.7 \n",
      "[02:27:54] WARNING: C:/Users/Administrator/workspace/xgboost-win64_release_1.3.0/src/learner.cc:1061: Starting in XGBoost 1.3.0, the default evaluation metric used with the objective 'binary:logistic' was changed from 'error' to 'logloss'. Explicitly set eval_metric if you'd like to restore the old behavior.\n",
      "[CV]  min_child_weight=1, max_depth=8, learning_rate=0.1, gamma=0.35, colsample_bytree=0.7, colsample_bynode=0.3, colsample_bylevel=0.7, score=1.000, total=   0.1s\n",
      "[CV] min_child_weight=1, max_depth=8, learning_rate=0.1, gamma=0.35, colsample_bytree=0.7, colsample_bynode=0.3, colsample_bylevel=0.7 \n",
      "[02:27:54] WARNING: C:/Users/Administrator/workspace/xgboost-win64_release_1.3.0/src/learner.cc:1061: Starting in XGBoost 1.3.0, the default evaluation metric used with the objective 'binary:logistic' was changed from 'error' to 'logloss'. Explicitly set eval_metric if you'd like to restore the old behavior.\n",
      "[CV]  min_child_weight=1, max_depth=8, learning_rate=0.1, gamma=0.35, colsample_bytree=0.7, colsample_bynode=0.3, colsample_bylevel=0.7, score=1.000, total=   0.1s\n",
      "[CV] min_child_weight=1, max_depth=8, learning_rate=0.1, gamma=0.35, colsample_bytree=0.7, colsample_bynode=0.3, colsample_bylevel=0.7 \n",
      "[02:27:54] WARNING: C:/Users/Administrator/workspace/xgboost-win64_release_1.3.0/src/learner.cc:1061: Starting in XGBoost 1.3.0, the default evaluation metric used with the objective 'binary:logistic' was changed from 'error' to 'logloss'. Explicitly set eval_metric if you'd like to restore the old behavior.\n",
      "[CV]  min_child_weight=1, max_depth=8, learning_rate=0.1, gamma=0.35, colsample_bytree=0.7, colsample_bynode=0.3, colsample_bylevel=0.7, score=1.000, total=   0.2s\n",
      "[CV] min_child_weight=1, max_depth=8, learning_rate=0.1, gamma=0.35, colsample_bytree=0.7, colsample_bynode=0.3, colsample_bylevel=0.7 \n",
      "[02:27:54] WARNING: C:/Users/Administrator/workspace/xgboost-win64_release_1.3.0/src/learner.cc:1061: Starting in XGBoost 1.3.0, the default evaluation metric used with the objective 'binary:logistic' was changed from 'error' to 'logloss'. Explicitly set eval_metric if you'd like to restore the old behavior.\n",
      "[CV]  min_child_weight=1, max_depth=8, learning_rate=0.1, gamma=0.35, colsample_bytree=0.7, colsample_bynode=0.3, colsample_bylevel=0.7, score=1.000, total=   0.1s\n",
      "[CV] min_child_weight=1, max_depth=8, learning_rate=0.1, gamma=0.35, colsample_bytree=0.7, colsample_bynode=0.3, colsample_bylevel=0.7 \n",
      "[02:27:54] WARNING: C:/Users/Administrator/workspace/xgboost-win64_release_1.3.0/src/learner.cc:1061: Starting in XGBoost 1.3.0, the default evaluation metric used with the objective 'binary:logistic' was changed from 'error' to 'logloss'. Explicitly set eval_metric if you'd like to restore the old behavior.\n",
      "[CV]  min_child_weight=1, max_depth=8, learning_rate=0.1, gamma=0.35, colsample_bytree=0.7, colsample_bynode=0.3, colsample_bylevel=0.7, score=1.000, total=   0.1s\n",
      "[CV] min_child_weight=1, max_depth=8, learning_rate=0.1, gamma=0.35, colsample_bytree=0.7, colsample_bynode=0.3, colsample_bylevel=0.7 \n",
      "[02:27:54] WARNING: C:/Users/Administrator/workspace/xgboost-win64_release_1.3.0/src/learner.cc:1061: Starting in XGBoost 1.3.0, the default evaluation metric used with the objective 'binary:logistic' was changed from 'error' to 'logloss'. Explicitly set eval_metric if you'd like to restore the old behavior.\n",
      "[CV]  min_child_weight=1, max_depth=8, learning_rate=0.1, gamma=0.35, colsample_bytree=0.7, colsample_bynode=0.3, colsample_bylevel=0.7, score=1.000, total=   0.1s\n",
      "[CV] min_child_weight=1, max_depth=8, learning_rate=0.1, gamma=0.35, colsample_bytree=0.7, colsample_bynode=0.3, colsample_bylevel=0.7 \n",
      "[02:27:55] WARNING: C:/Users/Administrator/workspace/xgboost-win64_release_1.3.0/src/learner.cc:1061: Starting in XGBoost 1.3.0, the default evaluation metric used with the objective 'binary:logistic' was changed from 'error' to 'logloss'. Explicitly set eval_metric if you'd like to restore the old behavior.\n"
     ]
    },
    {
     "name": "stdout",
     "output_type": "stream",
     "text": [
      "[CV]  min_child_weight=1, max_depth=8, learning_rate=0.1, gamma=0.35, colsample_bytree=0.7, colsample_bynode=0.3, colsample_bylevel=0.7, score=1.000, total=   0.1s\n",
      "[CV] min_child_weight=1, max_depth=8, learning_rate=0.1, gamma=0.35, colsample_bytree=0.7, colsample_bynode=0.3, colsample_bylevel=0.7 \n",
      "[02:27:55] WARNING: C:/Users/Administrator/workspace/xgboost-win64_release_1.3.0/src/learner.cc:1061: Starting in XGBoost 1.3.0, the default evaluation metric used with the objective 'binary:logistic' was changed from 'error' to 'logloss'. Explicitly set eval_metric if you'd like to restore the old behavior.\n",
      "[CV]  min_child_weight=1, max_depth=8, learning_rate=0.1, gamma=0.35, colsample_bytree=0.7, colsample_bynode=0.3, colsample_bylevel=0.7, score=1.000, total=   0.1s\n",
      "[CV] min_child_weight=1, max_depth=8, learning_rate=0.1, gamma=0.35, colsample_bytree=0.7, colsample_bynode=0.3, colsample_bylevel=0.7 \n",
      "[02:27:55] WARNING: C:/Users/Administrator/workspace/xgboost-win64_release_1.3.0/src/learner.cc:1061: Starting in XGBoost 1.3.0, the default evaluation metric used with the objective 'binary:logistic' was changed from 'error' to 'logloss'. Explicitly set eval_metric if you'd like to restore the old behavior.\n",
      "[CV]  min_child_weight=1, max_depth=8, learning_rate=0.1, gamma=0.35, colsample_bytree=0.7, colsample_bynode=0.3, colsample_bylevel=0.7, score=1.000, total=   0.2s\n",
      "[CV] min_child_weight=3, max_depth=11, learning_rate=0.15, gamma=0.5, colsample_bytree=0.6, colsample_bynode=0.3, colsample_bylevel=0.7 \n",
      "[02:27:55] WARNING: C:/Users/Administrator/workspace/xgboost-win64_release_1.3.0/src/learner.cc:1061: Starting in XGBoost 1.3.0, the default evaluation metric used with the objective 'binary:logistic' was changed from 'error' to 'logloss'. Explicitly set eval_metric if you'd like to restore the old behavior.\n",
      "[CV]  min_child_weight=3, max_depth=11, learning_rate=0.15, gamma=0.5, colsample_bytree=0.6, colsample_bynode=0.3, colsample_bylevel=0.7, score=0.999, total=   0.2s\n",
      "[CV] min_child_weight=3, max_depth=11, learning_rate=0.15, gamma=0.5, colsample_bytree=0.6, colsample_bynode=0.3, colsample_bylevel=0.7 \n",
      "[02:27:55] WARNING: C:/Users/Administrator/workspace/xgboost-win64_release_1.3.0/src/learner.cc:1061: Starting in XGBoost 1.3.0, the default evaluation metric used with the objective 'binary:logistic' was changed from 'error' to 'logloss'. Explicitly set eval_metric if you'd like to restore the old behavior.\n",
      "[CV]  min_child_weight=3, max_depth=11, learning_rate=0.15, gamma=0.5, colsample_bytree=0.6, colsample_bynode=0.3, colsample_bylevel=0.7, score=1.000, total=   0.2s\n",
      "[CV] min_child_weight=3, max_depth=11, learning_rate=0.15, gamma=0.5, colsample_bytree=0.6, colsample_bynode=0.3, colsample_bylevel=0.7 \n",
      "[02:27:56] WARNING: C:/Users/Administrator/workspace/xgboost-win64_release_1.3.0/src/learner.cc:1061: Starting in XGBoost 1.3.0, the default evaluation metric used with the objective 'binary:logistic' was changed from 'error' to 'logloss'. Explicitly set eval_metric if you'd like to restore the old behavior.\n",
      "[CV]  min_child_weight=3, max_depth=11, learning_rate=0.15, gamma=0.5, colsample_bytree=0.6, colsample_bynode=0.3, colsample_bylevel=0.7, score=1.000, total=   0.2s\n",
      "[CV] min_child_weight=3, max_depth=11, learning_rate=0.15, gamma=0.5, colsample_bytree=0.6, colsample_bynode=0.3, colsample_bylevel=0.7 \n",
      "[02:27:56] WARNING: C:/Users/Administrator/workspace/xgboost-win64_release_1.3.0/src/learner.cc:1061: Starting in XGBoost 1.3.0, the default evaluation metric used with the objective 'binary:logistic' was changed from 'error' to 'logloss'. Explicitly set eval_metric if you'd like to restore the old behavior.\n",
      "[CV]  min_child_weight=3, max_depth=11, learning_rate=0.15, gamma=0.5, colsample_bytree=0.6, colsample_bynode=0.3, colsample_bylevel=0.7, score=1.000, total=   0.2s\n",
      "[CV] min_child_weight=3, max_depth=11, learning_rate=0.15, gamma=0.5, colsample_bytree=0.6, colsample_bynode=0.3, colsample_bylevel=0.7 \n",
      "[02:27:56] WARNING: C:/Users/Administrator/workspace/xgboost-win64_release_1.3.0/src/learner.cc:1061: Starting in XGBoost 1.3.0, the default evaluation metric used with the objective 'binary:logistic' was changed from 'error' to 'logloss'. Explicitly set eval_metric if you'd like to restore the old behavior.\n",
      "[CV]  min_child_weight=3, max_depth=11, learning_rate=0.15, gamma=0.5, colsample_bytree=0.6, colsample_bynode=0.3, colsample_bylevel=0.7, score=1.000, total=   0.2s\n",
      "[CV] min_child_weight=3, max_depth=11, learning_rate=0.15, gamma=0.5, colsample_bytree=0.6, colsample_bynode=0.3, colsample_bylevel=0.7 \n",
      "[02:27:56] WARNING: C:/Users/Administrator/workspace/xgboost-win64_release_1.3.0/src/learner.cc:1061: Starting in XGBoost 1.3.0, the default evaluation metric used with the objective 'binary:logistic' was changed from 'error' to 'logloss'. Explicitly set eval_metric if you'd like to restore the old behavior.\n",
      "[CV]  min_child_weight=3, max_depth=11, learning_rate=0.15, gamma=0.5, colsample_bytree=0.6, colsample_bynode=0.3, colsample_bylevel=0.7, score=1.000, total=   0.3s\n",
      "[CV] min_child_weight=3, max_depth=11, learning_rate=0.15, gamma=0.5, colsample_bytree=0.6, colsample_bynode=0.3, colsample_bylevel=0.7 \n",
      "[02:27:57] WARNING: C:/Users/Administrator/workspace/xgboost-win64_release_1.3.0/src/learner.cc:1061: Starting in XGBoost 1.3.0, the default evaluation metric used with the objective 'binary:logistic' was changed from 'error' to 'logloss'. Explicitly set eval_metric if you'd like to restore the old behavior.\n",
      "[CV]  min_child_weight=3, max_depth=11, learning_rate=0.15, gamma=0.5, colsample_bytree=0.6, colsample_bynode=0.3, colsample_bylevel=0.7, score=1.000, total=   0.3s\n",
      "[CV] min_child_weight=3, max_depth=11, learning_rate=0.15, gamma=0.5, colsample_bytree=0.6, colsample_bynode=0.3, colsample_bylevel=0.7 \n",
      "[02:27:57] WARNING: C:/Users/Administrator/workspace/xgboost-win64_release_1.3.0/src/learner.cc:1061: Starting in XGBoost 1.3.0, the default evaluation metric used with the objective 'binary:logistic' was changed from 'error' to 'logloss'. Explicitly set eval_metric if you'd like to restore the old behavior.\n",
      "[CV]  min_child_weight=3, max_depth=11, learning_rate=0.15, gamma=0.5, colsample_bytree=0.6, colsample_bynode=0.3, colsample_bylevel=0.7, score=1.000, total=   0.3s\n",
      "[CV] min_child_weight=3, max_depth=11, learning_rate=0.15, gamma=0.5, colsample_bytree=0.6, colsample_bynode=0.3, colsample_bylevel=0.7 \n",
      "[02:27:57] WARNING: C:/Users/Administrator/workspace/xgboost-win64_release_1.3.0/src/learner.cc:1061: Starting in XGBoost 1.3.0, the default evaluation metric used with the objective 'binary:logistic' was changed from 'error' to 'logloss'. Explicitly set eval_metric if you'd like to restore the old behavior.\n",
      "[CV]  min_child_weight=3, max_depth=11, learning_rate=0.15, gamma=0.5, colsample_bytree=0.6, colsample_bynode=0.3, colsample_bylevel=0.7, score=1.000, total=   0.1s\n",
      "[CV] min_child_weight=3, max_depth=11, learning_rate=0.15, gamma=0.5, colsample_bytree=0.6, colsample_bynode=0.3, colsample_bylevel=0.7 \n",
      "[02:27:57] WARNING: C:/Users/Administrator/workspace/xgboost-win64_release_1.3.0/src/learner.cc:1061: Starting in XGBoost 1.3.0, the default evaluation metric used with the objective 'binary:logistic' was changed from 'error' to 'logloss'. Explicitly set eval_metric if you'd like to restore the old behavior.\n",
      "[CV]  min_child_weight=3, max_depth=11, learning_rate=0.15, gamma=0.5, colsample_bytree=0.6, colsample_bynode=0.3, colsample_bylevel=0.7, score=1.000, total=   0.1s\n",
      "[CV] min_child_weight=5, max_depth=10, learning_rate=0.3, gamma=0.35, colsample_bytree=0.3, colsample_bynode=0.3, colsample_bylevel=0.5 \n",
      "[02:27:57] WARNING: C:/Users/Administrator/workspace/xgboost-win64_release_1.3.0/src/learner.cc:1061: Starting in XGBoost 1.3.0, the default evaluation metric used with the objective 'binary:logistic' was changed from 'error' to 'logloss'. Explicitly set eval_metric if you'd like to restore the old behavior.\n",
      "[CV]  min_child_weight=5, max_depth=10, learning_rate=0.3, gamma=0.35, colsample_bytree=0.3, colsample_bynode=0.3, colsample_bylevel=0.5, score=1.000, total=   0.1s\n",
      "[CV] min_child_weight=5, max_depth=10, learning_rate=0.3, gamma=0.35, colsample_bytree=0.3, colsample_bynode=0.3, colsample_bylevel=0.5 \n",
      "[02:27:57] WARNING: C:/Users/Administrator/workspace/xgboost-win64_release_1.3.0/src/learner.cc:1061: Starting in XGBoost 1.3.0, the default evaluation metric used with the objective 'binary:logistic' was changed from 'error' to 'logloss'. Explicitly set eval_metric if you'd like to restore the old behavior.\n",
      "[CV]  min_child_weight=5, max_depth=10, learning_rate=0.3, gamma=0.35, colsample_bytree=0.3, colsample_bynode=0.3, colsample_bylevel=0.5, score=1.000, total=   0.1s\n",
      "[CV] min_child_weight=5, max_depth=10, learning_rate=0.3, gamma=0.35, colsample_bytree=0.3, colsample_bynode=0.3, colsample_bylevel=0.5 \n"
     ]
    },
    {
     "name": "stdout",
     "output_type": "stream",
     "text": [
      "[02:27:57] WARNING: C:/Users/Administrator/workspace/xgboost-win64_release_1.3.0/src/learner.cc:1061: Starting in XGBoost 1.3.0, the default evaluation metric used with the objective 'binary:logistic' was changed from 'error' to 'logloss'. Explicitly set eval_metric if you'd like to restore the old behavior.\n",
      "[CV]  min_child_weight=5, max_depth=10, learning_rate=0.3, gamma=0.35, colsample_bytree=0.3, colsample_bynode=0.3, colsample_bylevel=0.5, score=1.000, total=   0.1s\n",
      "[CV] min_child_weight=5, max_depth=10, learning_rate=0.3, gamma=0.35, colsample_bytree=0.3, colsample_bynode=0.3, colsample_bylevel=0.5 \n",
      "[02:27:58] WARNING: C:/Users/Administrator/workspace/xgboost-win64_release_1.3.0/src/learner.cc:1061: Starting in XGBoost 1.3.0, the default evaluation metric used with the objective 'binary:logistic' was changed from 'error' to 'logloss'. Explicitly set eval_metric if you'd like to restore the old behavior.\n",
      "[CV]  min_child_weight=5, max_depth=10, learning_rate=0.3, gamma=0.35, colsample_bytree=0.3, colsample_bynode=0.3, colsample_bylevel=0.5, score=1.000, total=   0.1s\n",
      "[CV] min_child_weight=5, max_depth=10, learning_rate=0.3, gamma=0.35, colsample_bytree=0.3, colsample_bynode=0.3, colsample_bylevel=0.5 \n",
      "[02:27:58] WARNING: C:/Users/Administrator/workspace/xgboost-win64_release_1.3.0/src/learner.cc:1061: Starting in XGBoost 1.3.0, the default evaluation metric used with the objective 'binary:logistic' was changed from 'error' to 'logloss'. Explicitly set eval_metric if you'd like to restore the old behavior.\n",
      "[CV]  min_child_weight=5, max_depth=10, learning_rate=0.3, gamma=0.35, colsample_bytree=0.3, colsample_bynode=0.3, colsample_bylevel=0.5, score=1.000, total=   0.1s\n",
      "[CV] min_child_weight=5, max_depth=10, learning_rate=0.3, gamma=0.35, colsample_bytree=0.3, colsample_bynode=0.3, colsample_bylevel=0.5 \n",
      "[02:27:58] WARNING: C:/Users/Administrator/workspace/xgboost-win64_release_1.3.0/src/learner.cc:1061: Starting in XGBoost 1.3.0, the default evaluation metric used with the objective 'binary:logistic' was changed from 'error' to 'logloss'. Explicitly set eval_metric if you'd like to restore the old behavior.\n",
      "[CV]  min_child_weight=5, max_depth=10, learning_rate=0.3, gamma=0.35, colsample_bytree=0.3, colsample_bynode=0.3, colsample_bylevel=0.5, score=1.000, total=   0.1s\n",
      "[CV] min_child_weight=5, max_depth=10, learning_rate=0.3, gamma=0.35, colsample_bytree=0.3, colsample_bynode=0.3, colsample_bylevel=0.5 \n",
      "[02:27:58] WARNING: C:/Users/Administrator/workspace/xgboost-win64_release_1.3.0/src/learner.cc:1061: Starting in XGBoost 1.3.0, the default evaluation metric used with the objective 'binary:logistic' was changed from 'error' to 'logloss'. Explicitly set eval_metric if you'd like to restore the old behavior.\n",
      "[CV]  min_child_weight=5, max_depth=10, learning_rate=0.3, gamma=0.35, colsample_bytree=0.3, colsample_bynode=0.3, colsample_bylevel=0.5, score=1.000, total=   0.1s\n",
      "[CV] min_child_weight=5, max_depth=10, learning_rate=0.3, gamma=0.35, colsample_bytree=0.3, colsample_bynode=0.3, colsample_bylevel=0.5 \n",
      "[02:27:58] WARNING: C:/Users/Administrator/workspace/xgboost-win64_release_1.3.0/src/learner.cc:1061: Starting in XGBoost 1.3.0, the default evaluation metric used with the objective 'binary:logistic' was changed from 'error' to 'logloss'. Explicitly set eval_metric if you'd like to restore the old behavior.\n",
      "[CV]  min_child_weight=5, max_depth=10, learning_rate=0.3, gamma=0.35, colsample_bytree=0.3, colsample_bynode=0.3, colsample_bylevel=0.5, score=1.000, total=   0.1s\n",
      "[CV] min_child_weight=5, max_depth=10, learning_rate=0.3, gamma=0.35, colsample_bytree=0.3, colsample_bynode=0.3, colsample_bylevel=0.5 \n",
      "[02:27:58] WARNING: C:/Users/Administrator/workspace/xgboost-win64_release_1.3.0/src/learner.cc:1061: Starting in XGBoost 1.3.0, the default evaluation metric used with the objective 'binary:logistic' was changed from 'error' to 'logloss'. Explicitly set eval_metric if you'd like to restore the old behavior.\n",
      "[CV]  min_child_weight=5, max_depth=10, learning_rate=0.3, gamma=0.35, colsample_bytree=0.3, colsample_bynode=0.3, colsample_bylevel=0.5, score=1.000, total=   0.1s\n",
      "[CV] min_child_weight=5, max_depth=10, learning_rate=0.3, gamma=0.35, colsample_bytree=0.3, colsample_bynode=0.3, colsample_bylevel=0.5 \n",
      "[02:27:58] WARNING: C:/Users/Administrator/workspace/xgboost-win64_release_1.3.0/src/learner.cc:1061: Starting in XGBoost 1.3.0, the default evaluation metric used with the objective 'binary:logistic' was changed from 'error' to 'logloss'. Explicitly set eval_metric if you'd like to restore the old behavior.\n",
      "[CV]  min_child_weight=5, max_depth=10, learning_rate=0.3, gamma=0.35, colsample_bytree=0.3, colsample_bynode=0.3, colsample_bylevel=0.5, score=1.000, total=   0.1s\n",
      "[CV] min_child_weight=3, max_depth=8, learning_rate=0.001, gamma=0.15, colsample_bytree=0.6, colsample_bynode=0.7, colsample_bylevel=0.5 \n",
      "[02:27:58] WARNING: C:/Users/Administrator/workspace/xgboost-win64_release_1.3.0/src/learner.cc:1061: Starting in XGBoost 1.3.0, the default evaluation metric used with the objective 'binary:logistic' was changed from 'error' to 'logloss'. Explicitly set eval_metric if you'd like to restore the old behavior.\n",
      "[CV]  min_child_weight=3, max_depth=8, learning_rate=0.001, gamma=0.15, colsample_bytree=0.6, colsample_bynode=0.7, colsample_bylevel=0.5, score=0.998, total=   0.2s\n",
      "[CV] min_child_weight=3, max_depth=8, learning_rate=0.001, gamma=0.15, colsample_bytree=0.6, colsample_bynode=0.7, colsample_bylevel=0.5 \n",
      "[02:27:58] WARNING: C:/Users/Administrator/workspace/xgboost-win64_release_1.3.0/src/learner.cc:1061: Starting in XGBoost 1.3.0, the default evaluation metric used with the objective 'binary:logistic' was changed from 'error' to 'logloss'. Explicitly set eval_metric if you'd like to restore the old behavior.\n",
      "[CV]  min_child_weight=3, max_depth=8, learning_rate=0.001, gamma=0.15, colsample_bytree=0.6, colsample_bynode=0.7, colsample_bylevel=0.5, score=0.999, total=   0.1s\n",
      "[CV] min_child_weight=3, max_depth=8, learning_rate=0.001, gamma=0.15, colsample_bytree=0.6, colsample_bynode=0.7, colsample_bylevel=0.5 \n",
      "[02:27:59] WARNING: C:/Users/Administrator/workspace/xgboost-win64_release_1.3.0/src/learner.cc:1061: Starting in XGBoost 1.3.0, the default evaluation metric used with the objective 'binary:logistic' was changed from 'error' to 'logloss'. Explicitly set eval_metric if you'd like to restore the old behavior.\n",
      "[CV]  min_child_weight=3, max_depth=8, learning_rate=0.001, gamma=0.15, colsample_bytree=0.6, colsample_bynode=0.7, colsample_bylevel=0.5, score=0.992, total=   0.1s\n",
      "[CV] min_child_weight=3, max_depth=8, learning_rate=0.001, gamma=0.15, colsample_bytree=0.6, colsample_bynode=0.7, colsample_bylevel=0.5 \n",
      "[02:27:59] WARNING: C:/Users/Administrator/workspace/xgboost-win64_release_1.3.0/src/learner.cc:1061: Starting in XGBoost 1.3.0, the default evaluation metric used with the objective 'binary:logistic' was changed from 'error' to 'logloss'. Explicitly set eval_metric if you'd like to restore the old behavior.\n",
      "[CV]  min_child_weight=3, max_depth=8, learning_rate=0.001, gamma=0.15, colsample_bytree=0.6, colsample_bynode=0.7, colsample_bylevel=0.5, score=0.989, total=   0.2s\n",
      "[CV] min_child_weight=3, max_depth=8, learning_rate=0.001, gamma=0.15, colsample_bytree=0.6, colsample_bynode=0.7, colsample_bylevel=0.5 \n",
      "[02:27:59] WARNING: C:/Users/Administrator/workspace/xgboost-win64_release_1.3.0/src/learner.cc:1061: Starting in XGBoost 1.3.0, the default evaluation metric used with the objective 'binary:logistic' was changed from 'error' to 'logloss'. Explicitly set eval_metric if you'd like to restore the old behavior.\n",
      "[CV]  min_child_weight=3, max_depth=8, learning_rate=0.001, gamma=0.15, colsample_bytree=0.6, colsample_bynode=0.7, colsample_bylevel=0.5, score=1.000, total=   0.2s\n",
      "[CV] min_child_weight=3, max_depth=8, learning_rate=0.001, gamma=0.15, colsample_bytree=0.6, colsample_bynode=0.7, colsample_bylevel=0.5 \n",
      "[02:27:59] WARNING: C:/Users/Administrator/workspace/xgboost-win64_release_1.3.0/src/learner.cc:1061: Starting in XGBoost 1.3.0, the default evaluation metric used with the objective 'binary:logistic' was changed from 'error' to 'logloss'. Explicitly set eval_metric if you'd like to restore the old behavior.\n"
     ]
    },
    {
     "name": "stdout",
     "output_type": "stream",
     "text": [
      "[CV]  min_child_weight=3, max_depth=8, learning_rate=0.001, gamma=0.15, colsample_bytree=0.6, colsample_bynode=0.7, colsample_bylevel=0.5, score=0.998, total=   0.3s\n",
      "[CV] min_child_weight=3, max_depth=8, learning_rate=0.001, gamma=0.15, colsample_bytree=0.6, colsample_bynode=0.7, colsample_bylevel=0.5 \n",
      "[02:27:59] WARNING: C:/Users/Administrator/workspace/xgboost-win64_release_1.3.0/src/learner.cc:1061: Starting in XGBoost 1.3.0, the default evaluation metric used with the objective 'binary:logistic' was changed from 'error' to 'logloss'. Explicitly set eval_metric if you'd like to restore the old behavior.\n",
      "[CV]  min_child_weight=3, max_depth=8, learning_rate=0.001, gamma=0.15, colsample_bytree=0.6, colsample_bynode=0.7, colsample_bylevel=0.5, score=1.000, total=   0.3s\n",
      "[CV] min_child_weight=3, max_depth=8, learning_rate=0.001, gamma=0.15, colsample_bytree=0.6, colsample_bynode=0.7, colsample_bylevel=0.5 \n",
      "[02:28:00] WARNING: C:/Users/Administrator/workspace/xgboost-win64_release_1.3.0/src/learner.cc:1061: Starting in XGBoost 1.3.0, the default evaluation metric used with the objective 'binary:logistic' was changed from 'error' to 'logloss'. Explicitly set eval_metric if you'd like to restore the old behavior.\n",
      "[CV]  min_child_weight=3, max_depth=8, learning_rate=0.001, gamma=0.15, colsample_bytree=0.6, colsample_bynode=0.7, colsample_bylevel=0.5, score=0.999, total=   0.3s\n",
      "[CV] min_child_weight=3, max_depth=8, learning_rate=0.001, gamma=0.15, colsample_bytree=0.6, colsample_bynode=0.7, colsample_bylevel=0.5 \n",
      "[02:28:00] WARNING: C:/Users/Administrator/workspace/xgboost-win64_release_1.3.0/src/learner.cc:1061: Starting in XGBoost 1.3.0, the default evaluation metric used with the objective 'binary:logistic' was changed from 'error' to 'logloss'. Explicitly set eval_metric if you'd like to restore the old behavior.\n",
      "[CV]  min_child_weight=3, max_depth=8, learning_rate=0.001, gamma=0.15, colsample_bytree=0.6, colsample_bynode=0.7, colsample_bylevel=0.5, score=0.999, total=   0.3s\n",
      "[CV] min_child_weight=3, max_depth=8, learning_rate=0.001, gamma=0.15, colsample_bytree=0.6, colsample_bynode=0.7, colsample_bylevel=0.5 \n",
      "[02:28:00] WARNING: C:/Users/Administrator/workspace/xgboost-win64_release_1.3.0/src/learner.cc:1061: Starting in XGBoost 1.3.0, the default evaluation metric used with the objective 'binary:logistic' was changed from 'error' to 'logloss'. Explicitly set eval_metric if you'd like to restore the old behavior.\n",
      "[CV]  min_child_weight=3, max_depth=8, learning_rate=0.001, gamma=0.15, colsample_bytree=0.6, colsample_bynode=0.7, colsample_bylevel=0.5, score=0.999, total=   0.3s\n",
      "[CV] min_child_weight=4, max_depth=4, learning_rate=0.005, gamma=0.35, colsample_bytree=0.4, colsample_bynode=0.7, colsample_bylevel=0.7 \n",
      "[02:28:01] WARNING: C:/Users/Administrator/workspace/xgboost-win64_release_1.3.0/src/learner.cc:1061: Starting in XGBoost 1.3.0, the default evaluation metric used with the objective 'binary:logistic' was changed from 'error' to 'logloss'. Explicitly set eval_metric if you'd like to restore the old behavior.\n",
      "[CV]  min_child_weight=4, max_depth=4, learning_rate=0.005, gamma=0.35, colsample_bytree=0.4, colsample_bynode=0.7, colsample_bylevel=0.7, score=0.998, total=   0.2s\n",
      "[CV] min_child_weight=4, max_depth=4, learning_rate=0.005, gamma=0.35, colsample_bytree=0.4, colsample_bynode=0.7, colsample_bylevel=0.7 \n",
      "[02:28:01] WARNING: C:/Users/Administrator/workspace/xgboost-win64_release_1.3.0/src/learner.cc:1061: Starting in XGBoost 1.3.0, the default evaluation metric used with the objective 'binary:logistic' was changed from 'error' to 'logloss'. Explicitly set eval_metric if you'd like to restore the old behavior.\n",
      "[CV]  min_child_weight=4, max_depth=4, learning_rate=0.005, gamma=0.35, colsample_bytree=0.4, colsample_bynode=0.7, colsample_bylevel=0.7, score=0.997, total=   0.2s\n",
      "[CV] min_child_weight=4, max_depth=4, learning_rate=0.005, gamma=0.35, colsample_bytree=0.4, colsample_bynode=0.7, colsample_bylevel=0.7 \n",
      "[02:28:01] WARNING: C:/Users/Administrator/workspace/xgboost-win64_release_1.3.0/src/learner.cc:1061: Starting in XGBoost 1.3.0, the default evaluation metric used with the objective 'binary:logistic' was changed from 'error' to 'logloss'. Explicitly set eval_metric if you'd like to restore the old behavior.\n",
      "[CV]  min_child_weight=4, max_depth=4, learning_rate=0.005, gamma=0.35, colsample_bytree=0.4, colsample_bynode=0.7, colsample_bylevel=0.7, score=0.992, total=   0.1s\n",
      "[CV] min_child_weight=4, max_depth=4, learning_rate=0.005, gamma=0.35, colsample_bytree=0.4, colsample_bynode=0.7, colsample_bylevel=0.7 \n",
      "[02:28:01] WARNING: C:/Users/Administrator/workspace/xgboost-win64_release_1.3.0/src/learner.cc:1061: Starting in XGBoost 1.3.0, the default evaluation metric used with the objective 'binary:logistic' was changed from 'error' to 'logloss'. Explicitly set eval_metric if you'd like to restore the old behavior.\n",
      "[CV]  min_child_weight=4, max_depth=4, learning_rate=0.005, gamma=0.35, colsample_bytree=0.4, colsample_bynode=0.7, colsample_bylevel=0.7, score=0.985, total=   0.1s\n",
      "[CV] min_child_weight=4, max_depth=4, learning_rate=0.005, gamma=0.35, colsample_bytree=0.4, colsample_bynode=0.7, colsample_bylevel=0.7 \n",
      "[02:28:01] WARNING: C:/Users/Administrator/workspace/xgboost-win64_release_1.3.0/src/learner.cc:1061: Starting in XGBoost 1.3.0, the default evaluation metric used with the objective 'binary:logistic' was changed from 'error' to 'logloss'. Explicitly set eval_metric if you'd like to restore the old behavior.\n",
      "[CV]  min_child_weight=4, max_depth=4, learning_rate=0.005, gamma=0.35, colsample_bytree=0.4, colsample_bynode=0.7, colsample_bylevel=0.7, score=0.998, total=   0.1s\n",
      "[CV] min_child_weight=4, max_depth=4, learning_rate=0.005, gamma=0.35, colsample_bytree=0.4, colsample_bynode=0.7, colsample_bylevel=0.7 \n",
      "[02:28:01] WARNING: C:/Users/Administrator/workspace/xgboost-win64_release_1.3.0/src/learner.cc:1061: Starting in XGBoost 1.3.0, the default evaluation metric used with the objective 'binary:logistic' was changed from 'error' to 'logloss'. Explicitly set eval_metric if you'd like to restore the old behavior.\n",
      "[CV]  min_child_weight=4, max_depth=4, learning_rate=0.005, gamma=0.35, colsample_bytree=0.4, colsample_bynode=0.7, colsample_bylevel=0.7, score=0.995, total=   0.1s\n",
      "[CV] min_child_weight=4, max_depth=4, learning_rate=0.005, gamma=0.35, colsample_bytree=0.4, colsample_bynode=0.7, colsample_bylevel=0.7 \n",
      "[02:28:02] WARNING: C:/Users/Administrator/workspace/xgboost-win64_release_1.3.0/src/learner.cc:1061: Starting in XGBoost 1.3.0, the default evaluation metric used with the objective 'binary:logistic' was changed from 'error' to 'logloss'. Explicitly set eval_metric if you'd like to restore the old behavior.\n",
      "[CV]  min_child_weight=4, max_depth=4, learning_rate=0.005, gamma=0.35, colsample_bytree=0.4, colsample_bynode=0.7, colsample_bylevel=0.7, score=1.000, total=   0.1s\n",
      "[CV] min_child_weight=4, max_depth=4, learning_rate=0.005, gamma=0.35, colsample_bytree=0.4, colsample_bynode=0.7, colsample_bylevel=0.7 \n",
      "[02:28:02] WARNING: C:/Users/Administrator/workspace/xgboost-win64_release_1.3.0/src/learner.cc:1061: Starting in XGBoost 1.3.0, the default evaluation metric used with the objective 'binary:logistic' was changed from 'error' to 'logloss'. Explicitly set eval_metric if you'd like to restore the old behavior.\n",
      "[CV]  min_child_weight=4, max_depth=4, learning_rate=0.005, gamma=0.35, colsample_bytree=0.4, colsample_bynode=0.7, colsample_bylevel=0.7, score=0.996, total=   0.1s\n",
      "[CV] min_child_weight=4, max_depth=4, learning_rate=0.005, gamma=0.35, colsample_bytree=0.4, colsample_bynode=0.7, colsample_bylevel=0.7 \n",
      "[02:28:02] WARNING: C:/Users/Administrator/workspace/xgboost-win64_release_1.3.0/src/learner.cc:1061: Starting in XGBoost 1.3.0, the default evaluation metric used with the objective 'binary:logistic' was changed from 'error' to 'logloss'. Explicitly set eval_metric if you'd like to restore the old behavior.\n",
      "[CV]  min_child_weight=4, max_depth=4, learning_rate=0.005, gamma=0.35, colsample_bytree=0.4, colsample_bynode=0.7, colsample_bylevel=0.7, score=0.996, total=   0.1s\n",
      "[CV] min_child_weight=4, max_depth=4, learning_rate=0.005, gamma=0.35, colsample_bytree=0.4, colsample_bynode=0.7, colsample_bylevel=0.7 \n",
      "[02:28:02] WARNING: C:/Users/Administrator/workspace/xgboost-win64_release_1.3.0/src/learner.cc:1061: Starting in XGBoost 1.3.0, the default evaluation metric used with the objective 'binary:logistic' was changed from 'error' to 'logloss'. Explicitly set eval_metric if you'd like to restore the old behavior.\n"
     ]
    },
    {
     "name": "stdout",
     "output_type": "stream",
     "text": [
      "[CV]  min_child_weight=4, max_depth=4, learning_rate=0.005, gamma=0.35, colsample_bytree=0.4, colsample_bynode=0.7, colsample_bylevel=0.7, score=0.999, total=   0.1s\n",
      "[CV] min_child_weight=6, max_depth=2, learning_rate=0.25, gamma=0.35, colsample_bytree=0.4, colsample_bynode=0.7, colsample_bylevel=0.4 \n",
      "[02:28:02] WARNING: C:/Users/Administrator/workspace/xgboost-win64_release_1.3.0/src/learner.cc:1061: Starting in XGBoost 1.3.0, the default evaluation metric used with the objective 'binary:logistic' was changed from 'error' to 'logloss'. Explicitly set eval_metric if you'd like to restore the old behavior.\n",
      "[CV]  min_child_weight=6, max_depth=2, learning_rate=0.25, gamma=0.35, colsample_bytree=0.4, colsample_bynode=0.7, colsample_bylevel=0.4, score=0.998, total=   0.1s\n",
      "[CV] min_child_weight=6, max_depth=2, learning_rate=0.25, gamma=0.35, colsample_bytree=0.4, colsample_bynode=0.7, colsample_bylevel=0.4 \n",
      "[02:28:02] WARNING: C:/Users/Administrator/workspace/xgboost-win64_release_1.3.0/src/learner.cc:1061: Starting in XGBoost 1.3.0, the default evaluation metric used with the objective 'binary:logistic' was changed from 'error' to 'logloss'. Explicitly set eval_metric if you'd like to restore the old behavior.\n",
      "[CV]  min_child_weight=6, max_depth=2, learning_rate=0.25, gamma=0.35, colsample_bytree=0.4, colsample_bynode=0.7, colsample_bylevel=0.4, score=1.000, total=   0.1s\n",
      "[CV] min_child_weight=6, max_depth=2, learning_rate=0.25, gamma=0.35, colsample_bytree=0.4, colsample_bynode=0.7, colsample_bylevel=0.4 \n",
      "[02:28:02] WARNING: C:/Users/Administrator/workspace/xgboost-win64_release_1.3.0/src/learner.cc:1061: Starting in XGBoost 1.3.0, the default evaluation metric used with the objective 'binary:logistic' was changed from 'error' to 'logloss'. Explicitly set eval_metric if you'd like to restore the old behavior.\n",
      "[CV]  min_child_weight=6, max_depth=2, learning_rate=0.25, gamma=0.35, colsample_bytree=0.4, colsample_bynode=0.7, colsample_bylevel=0.4, score=1.000, total=   0.1s\n",
      "[CV] min_child_weight=6, max_depth=2, learning_rate=0.25, gamma=0.35, colsample_bytree=0.4, colsample_bynode=0.7, colsample_bylevel=0.4 \n",
      "[02:28:02] WARNING: C:/Users/Administrator/workspace/xgboost-win64_release_1.3.0/src/learner.cc:1061: Starting in XGBoost 1.3.0, the default evaluation metric used with the objective 'binary:logistic' was changed from 'error' to 'logloss'. Explicitly set eval_metric if you'd like to restore the old behavior.\n",
      "[CV]  min_child_weight=6, max_depth=2, learning_rate=0.25, gamma=0.35, colsample_bytree=0.4, colsample_bynode=0.7, colsample_bylevel=0.4, score=1.000, total=   0.1s\n",
      "[CV] min_child_weight=6, max_depth=2, learning_rate=0.25, gamma=0.35, colsample_bytree=0.4, colsample_bynode=0.7, colsample_bylevel=0.4 \n",
      "[02:28:02] WARNING: C:/Users/Administrator/workspace/xgboost-win64_release_1.3.0/src/learner.cc:1061: Starting in XGBoost 1.3.0, the default evaluation metric used with the objective 'binary:logistic' was changed from 'error' to 'logloss'. Explicitly set eval_metric if you'd like to restore the old behavior.\n",
      "[CV]  min_child_weight=6, max_depth=2, learning_rate=0.25, gamma=0.35, colsample_bytree=0.4, colsample_bynode=0.7, colsample_bylevel=0.4, score=1.000, total=   0.1s\n",
      "[CV] min_child_weight=6, max_depth=2, learning_rate=0.25, gamma=0.35, colsample_bytree=0.4, colsample_bynode=0.7, colsample_bylevel=0.4 \n",
      "[02:28:02] WARNING: C:/Users/Administrator/workspace/xgboost-win64_release_1.3.0/src/learner.cc:1061: Starting in XGBoost 1.3.0, the default evaluation metric used with the objective 'binary:logistic' was changed from 'error' to 'logloss'. Explicitly set eval_metric if you'd like to restore the old behavior.\n",
      "[CV]  min_child_weight=6, max_depth=2, learning_rate=0.25, gamma=0.35, colsample_bytree=0.4, colsample_bynode=0.7, colsample_bylevel=0.4, score=1.000, total=   0.1s\n",
      "[CV] min_child_weight=6, max_depth=2, learning_rate=0.25, gamma=0.35, colsample_bytree=0.4, colsample_bynode=0.7, colsample_bylevel=0.4 \n",
      "[02:28:02] WARNING: C:/Users/Administrator/workspace/xgboost-win64_release_1.3.0/src/learner.cc:1061: Starting in XGBoost 1.3.0, the default evaluation metric used with the objective 'binary:logistic' was changed from 'error' to 'logloss'. Explicitly set eval_metric if you'd like to restore the old behavior.\n",
      "[CV]  min_child_weight=6, max_depth=2, learning_rate=0.25, gamma=0.35, colsample_bytree=0.4, colsample_bynode=0.7, colsample_bylevel=0.4, score=1.000, total=   0.1s\n",
      "[CV] min_child_weight=6, max_depth=2, learning_rate=0.25, gamma=0.35, colsample_bytree=0.4, colsample_bynode=0.7, colsample_bylevel=0.4 \n",
      "[02:28:02] WARNING: C:/Users/Administrator/workspace/xgboost-win64_release_1.3.0/src/learner.cc:1061: Starting in XGBoost 1.3.0, the default evaluation metric used with the objective 'binary:logistic' was changed from 'error' to 'logloss'. Explicitly set eval_metric if you'd like to restore the old behavior.\n",
      "[CV]  min_child_weight=6, max_depth=2, learning_rate=0.25, gamma=0.35, colsample_bytree=0.4, colsample_bynode=0.7, colsample_bylevel=0.4, score=1.000, total=   0.1s\n",
      "[CV] min_child_weight=6, max_depth=2, learning_rate=0.25, gamma=0.35, colsample_bytree=0.4, colsample_bynode=0.7, colsample_bylevel=0.4 \n",
      "[02:28:03] WARNING: C:/Users/Administrator/workspace/xgboost-win64_release_1.3.0/src/learner.cc:1061: Starting in XGBoost 1.3.0, the default evaluation metric used with the objective 'binary:logistic' was changed from 'error' to 'logloss'. Explicitly set eval_metric if you'd like to restore the old behavior.\n",
      "[CV]  min_child_weight=6, max_depth=2, learning_rate=0.25, gamma=0.35, colsample_bytree=0.4, colsample_bynode=0.7, colsample_bylevel=0.4, score=1.000, total=   0.1s\n",
      "[CV] min_child_weight=6, max_depth=2, learning_rate=0.25, gamma=0.35, colsample_bytree=0.4, colsample_bynode=0.7, colsample_bylevel=0.4 \n",
      "[02:28:03] WARNING: C:/Users/Administrator/workspace/xgboost-win64_release_1.3.0/src/learner.cc:1061: Starting in XGBoost 1.3.0, the default evaluation metric used with the objective 'binary:logistic' was changed from 'error' to 'logloss'. Explicitly set eval_metric if you'd like to restore the old behavior.\n",
      "[CV]  min_child_weight=6, max_depth=2, learning_rate=0.25, gamma=0.35, colsample_bytree=0.4, colsample_bynode=0.7, colsample_bylevel=0.4, score=1.000, total=   0.1s\n",
      "[02:28:03] WARNING: C:/Users/Administrator/workspace/xgboost-win64_release_1.3.0/src/learner.cc:1061: Starting in XGBoost 1.3.0, the default evaluation metric used with the objective 'binary:logistic' was changed from 'error' to 'logloss'. Explicitly set eval_metric if you'd like to restore the old behavior.\n"
     ]
    },
    {
     "name": "stderr",
     "output_type": "stream",
     "text": [
      "[Parallel(n_jobs=1)]: Done  70 out of  70 | elapsed:   10.2s finished\n"
     ]
    },
    {
     "data": {
      "text/plain": [
       "RandomizedSearchCV(cv=10,\n",
       "                   estimator=XGBClassifier(base_score=None, booster=None,\n",
       "                                           colsample_bylevel=None,\n",
       "                                           colsample_bynode=None,\n",
       "                                           colsample_bytree=None, gamma=None,\n",
       "                                           gpu_id=None, importance_type='gain',\n",
       "                                           interaction_constraints=None,\n",
       "                                           learning_rate=None,\n",
       "                                           max_delta_step=None, max_depth=None,\n",
       "                                           min_child_weight=None, missing=nan,\n",
       "                                           monotone_constraints=None,\n",
       "                                           n_estimators=100...\n",
       "                   param_distributions={'colsample_bylevel': [0.3, 0.4, 0.5,\n",
       "                                                              0.6, 0.7],\n",
       "                                        'colsample_bynode': [0.3, 0.4, 0.5, 0.6,\n",
       "                                                             0.7],\n",
       "                                        'colsample_bytree': [0.3, 0.4, 0.5, 0.6,\n",
       "                                                             0.7],\n",
       "                                        'gamma': [0, 0.05, 0.1, 0.15, 0.2, 0.25,\n",
       "                                                  0.3, 0.35, 0.4, 0.45, 0.5],\n",
       "                                        'learning_rate': [0.001, 0.005, 0.01,\n",
       "                                                          0.05, 0.1, 0.15, 0.2,\n",
       "                                                          0.25, 0.3, 0.35],\n",
       "                                        'max_depth': [2, 3, 4, 5, 6, 7, 8, 9,\n",
       "                                                      10, 11, 12, 13, 14],\n",
       "                                        'min_child_weight': [1, 2, 3, 4, 5, 6]},\n",
       "                   scoring='roc_auc', verbose=3)"
      ]
     },
     "execution_count": 23,
     "metadata": {},
     "output_type": "execute_result"
    }
   ],
   "source": [
    "# RandomizedSearchCV to fit the model to the training set\n",
    "rand_search.fit(X_train, y_train)"
   ]
  },
  {
   "cell_type": "code",
   "execution_count": 24,
   "metadata": {},
   "outputs": [
    {
     "data": {
      "text/plain": [
       "XGBClassifier(base_score=0.5, booster='gbtree', colsample_bylevel=0.7,\n",
       "              colsample_bynode=0.3, colsample_bytree=0.7, gamma=0.35, gpu_id=-1,\n",
       "              importance_type='gain', interaction_constraints='',\n",
       "              learning_rate=0.1, max_delta_step=0, max_depth=8,\n",
       "              min_child_weight=1, missing=nan, monotone_constraints='()',\n",
       "              n_estimators=100, n_jobs=8, num_parallel_tree=1, random_state=0,\n",
       "              reg_alpha=0, reg_lambda=1, scale_pos_weight=1, subsample=1,\n",
       "              tree_method='exact', validate_parameters=1, verbosity=None)"
      ]
     },
     "execution_count": 24,
     "metadata": {},
     "output_type": "execute_result"
    }
   ],
   "source": [
    "# Best estimator returns optimal values for all the hyperparameters of the RandomizedSearchCV()\n",
    "rand_search.best_estimator_"
   ]
  },
  {
   "cell_type": "code",
   "execution_count": 25,
   "metadata": {},
   "outputs": [
    {
     "data": {
      "text/plain": [
       "{'min_child_weight': 1,\n",
       " 'max_depth': 8,\n",
       " 'learning_rate': 0.1,\n",
       " 'gamma': 0.35,\n",
       " 'colsample_bytree': 0.7,\n",
       " 'colsample_bynode': 0.3,\n",
       " 'colsample_bylevel': 0.7}"
      ]
     },
     "execution_count": 25,
     "metadata": {},
     "output_type": "execute_result"
    }
   ],
   "source": [
    "# Best params returns optimal values for the previously defined opt_parameters(dict)  \n",
    "rand_search.best_params_"
   ]
  },
  {
   "cell_type": "code",
   "execution_count": 37,
   "metadata": {},
   "outputs": [
    {
     "data": {
      "text/plain": [
       "0.9998687649308907"
      ]
     },
     "execution_count": 37,
     "metadata": {},
     "output_type": "execute_result"
    }
   ],
   "source": [
    "# Best score obtained from the RandomizedSearchCV()\n",
    "rand_search.best_score_"
   ]
  },
  {
   "cell_type": "code",
   "execution_count": 40,
   "metadata": {},
   "outputs": [
    {
     "data": {
      "text/plain": [
       "{'mean_fit_time': array([0.12113254, 0.14060335, 0.21948421, 0.08914256, 0.2316803 ,\n",
       "        0.1247575 , 0.06177866]),\n",
       " 'std_fit_time': array([0.00948496, 0.01257814, 0.04983703, 0.00892448, 0.08081751,\n",
       "        0.03860727, 0.00581224]),\n",
       " 'mean_score_time': array([0.00315802, 0.0023936 , 0.00506456, 0.00488589, 0.00658143,\n",
       "        0.00265927, 0.00255954]),\n",
       " 'std_score_time': array([0.00426742, 0.00526257, 0.00401068, 0.00705228, 0.00602986,\n",
       "        0.0044962 , 0.0044545 ]),\n",
       " 'param_min_child_weight': masked_array(data=[6, 1, 3, 5, 3, 4, 6],\n",
       "              mask=[False, False, False, False, False, False, False],\n",
       "        fill_value='?',\n",
       "             dtype=object),\n",
       " 'param_max_depth': masked_array(data=[6, 8, 11, 10, 8, 4, 2],\n",
       "              mask=[False, False, False, False, False, False, False],\n",
       "        fill_value='?',\n",
       "             dtype=object),\n",
       " 'param_learning_rate': masked_array(data=[0.001, 0.1, 0.15, 0.3, 0.001, 0.005, 0.25],\n",
       "              mask=[False, False, False, False, False, False, False],\n",
       "        fill_value='?',\n",
       "             dtype=object),\n",
       " 'param_gamma': masked_array(data=[0.45, 0.35, 0.5, 0.35, 0.15, 0.35, 0.35],\n",
       "              mask=[False, False, False, False, False, False, False],\n",
       "        fill_value='?',\n",
       "             dtype=object),\n",
       " 'param_colsample_bytree': masked_array(data=[0.6, 0.7, 0.6, 0.3, 0.6, 0.4, 0.4],\n",
       "              mask=[False, False, False, False, False, False, False],\n",
       "        fill_value='?',\n",
       "             dtype=object),\n",
       " 'param_colsample_bynode': masked_array(data=[0.5, 0.3, 0.3, 0.3, 0.7, 0.7, 0.7],\n",
       "              mask=[False, False, False, False, False, False, False],\n",
       "        fill_value='?',\n",
       "             dtype=object),\n",
       " 'param_colsample_bylevel': masked_array(data=[0.3, 0.7, 0.7, 0.5, 0.5, 0.7, 0.4],\n",
       "              mask=[False, False, False, False, False, False, False],\n",
       "        fill_value='?',\n",
       "             dtype=object),\n",
       " 'params': [{'min_child_weight': 6,\n",
       "   'max_depth': 6,\n",
       "   'learning_rate': 0.001,\n",
       "   'gamma': 0.45,\n",
       "   'colsample_bytree': 0.6,\n",
       "   'colsample_bynode': 0.5,\n",
       "   'colsample_bylevel': 0.3},\n",
       "  {'min_child_weight': 1,\n",
       "   'max_depth': 8,\n",
       "   'learning_rate': 0.1,\n",
       "   'gamma': 0.35,\n",
       "   'colsample_bytree': 0.7,\n",
       "   'colsample_bynode': 0.3,\n",
       "   'colsample_bylevel': 0.7},\n",
       "  {'min_child_weight': 3,\n",
       "   'max_depth': 11,\n",
       "   'learning_rate': 0.15,\n",
       "   'gamma': 0.5,\n",
       "   'colsample_bytree': 0.6,\n",
       "   'colsample_bynode': 0.3,\n",
       "   'colsample_bylevel': 0.7},\n",
       "  {'min_child_weight': 5,\n",
       "   'max_depth': 10,\n",
       "   'learning_rate': 0.3,\n",
       "   'gamma': 0.35,\n",
       "   'colsample_bytree': 0.3,\n",
       "   'colsample_bynode': 0.3,\n",
       "   'colsample_bylevel': 0.5},\n",
       "  {'min_child_weight': 3,\n",
       "   'max_depth': 8,\n",
       "   'learning_rate': 0.001,\n",
       "   'gamma': 0.15,\n",
       "   'colsample_bytree': 0.6,\n",
       "   'colsample_bynode': 0.7,\n",
       "   'colsample_bylevel': 0.5},\n",
       "  {'min_child_weight': 4,\n",
       "   'max_depth': 4,\n",
       "   'learning_rate': 0.005,\n",
       "   'gamma': 0.35,\n",
       "   'colsample_bytree': 0.4,\n",
       "   'colsample_bynode': 0.7,\n",
       "   'colsample_bylevel': 0.7},\n",
       "  {'min_child_weight': 6,\n",
       "   'max_depth': 2,\n",
       "   'learning_rate': 0.25,\n",
       "   'gamma': 0.35,\n",
       "   'colsample_bytree': 0.4,\n",
       "   'colsample_bynode': 0.7,\n",
       "   'colsample_bylevel': 0.4}],\n",
       " 'split0_test_score': array([0.99815641, 0.99964318, 0.99940529, 0.99952423, 0.99845376,\n",
       "        0.99821588, 0.99839429]),\n",
       " 'split1_test_score': array([0.9882248 , 0.99994053, 0.99994053, 0.99976212, 0.99940529,\n",
       "        0.99661017, 0.99994053]),\n",
       " 'split2_test_score': array([0.99232828, 0.99976212, 0.99976212, 0.99958371, 0.99203092,\n",
       "        0.99214987, 0.99976212]),\n",
       " 'split3_test_score': array([0.98406185, 0.99976212, 0.99958371, 0.99976212, 0.98947368,\n",
       "        0.98507285, 0.99976212]),\n",
       " 'split4_test_score': array([0.99869164, 1.        , 1.        , 1.        , 0.99988106,\n",
       "        0.99803747, 1.        ]),\n",
       " 'split5_test_score': array([0.99394673, 0.99993947, 0.99993947, 0.99993947, 0.99830508,\n",
       "        0.99497579, 1.        ]),\n",
       " 'split6_test_score': array([0.99921308, 1.        , 1.        , 1.        , 1.        ,\n",
       "        1.        , 1.        ]),\n",
       " 'split7_test_score': array([0.99443099, 0.99987893, 1.        , 0.99975787, 0.99866828,\n",
       "        0.99564165, 0.99993947]),\n",
       " 'split8_test_score': array([0.98800573, 0.99988065, 1.        , 1.        , 0.99850818,\n",
       "        0.99647929, 1.        ]),\n",
       " 'split9_test_score': array([0.99033298, 0.99988065, 0.99988065, 0.99994033, 0.99940327,\n",
       "        0.99856785, 0.99982098]),\n",
       " 'mean_test_score': array([0.99273925, 0.99986876, 0.99985118, 0.99982698, 0.99741295,\n",
       "        0.99557508, 0.99976195]),\n",
       " 'std_test_score': array([0.00484819, 0.00010891, 0.00019584, 0.00016713, 0.0034259 ,\n",
       "        0.00407253, 0.00046519]),\n",
       " 'rank_test_score': array([7, 1, 2, 3, 5, 6, 4])}"
      ]
     },
     "execution_count": 40,
     "metadata": {},
     "output_type": "execute_result"
    }
   ],
   "source": [
    "# RandomizedSearchCV cross validation results\n",
    "rand_search.cv_results_"
   ]
  },
  {
   "cell_type": "code",
   "execution_count": 46,
   "metadata": {
    "scrolled": true
   },
   "outputs": [
    {
     "data": {
      "text/plain": [
       "array([0.99273925, 0.99986876, 0.99985118, 0.99982698, 0.99741295,\n",
       "       0.99557508, 0.99976195])"
      ]
     },
     "execution_count": 46,
     "metadata": {},
     "output_type": "execute_result"
    }
   ],
   "source": [
    "# Mean test score for each split\n",
    "rand_search.cv_results_['mean_test_score']"
   ]
  },
  {
   "cell_type": "code",
   "execution_count": 44,
   "metadata": {},
   "outputs": [
    {
     "data": {
      "text/plain": [
       "0.9978623082553612"
      ]
     },
     "execution_count": 44,
     "metadata": {},
     "output_type": "execute_result"
    }
   ],
   "source": [
    "# Mean test score of all splits\n",
    "rand_search.cv_results_['mean_test_score'].mean()"
   ]
  },
  {
   "cell_type": "code",
   "execution_count": 26,
   "metadata": {
    "scrolled": false
   },
   "outputs": [
    {
     "name": "stdout",
     "output_type": "stream",
     "text": [
      "[0]\tvalidation_0-aucpr:0.64730\n",
      "[1]\tvalidation_0-aucpr:0.98156\n",
      "[2]\tvalidation_0-aucpr:0.98191\n",
      "[3]\tvalidation_0-aucpr:0.98325\n",
      "[4]\tvalidation_0-aucpr:0.98529\n",
      "[5]\tvalidation_0-aucpr:0.98415\n",
      "[6]\tvalidation_0-aucpr:0.98606\n",
      "[7]\tvalidation_0-aucpr:0.98603\n",
      "[8]\tvalidation_0-aucpr:0.98861\n",
      "[9]\tvalidation_0-aucpr:0.99111\n",
      "[10]\tvalidation_0-aucpr:0.99199\n",
      "[11]\tvalidation_0-aucpr:0.99206\n",
      "[12]\tvalidation_0-aucpr:0.99105\n",
      "[13]\tvalidation_0-aucpr:0.99125\n",
      "[14]\tvalidation_0-aucpr:0.99047\n",
      "[15]\tvalidation_0-aucpr:0.98982\n",
      "[16]\tvalidation_0-aucpr:0.99048\n",
      "[17]\tvalidation_0-aucpr:0.99203\n",
      "[18]\tvalidation_0-aucpr:0.99187\n",
      "[19]\tvalidation_0-aucpr:0.99221\n",
      "[20]\tvalidation_0-aucpr:0.99298\n",
      "[21]\tvalidation_0-aucpr:0.99265\n",
      "[22]\tvalidation_0-aucpr:0.99291\n",
      "[23]\tvalidation_0-aucpr:0.99277\n",
      "[24]\tvalidation_0-aucpr:0.99354\n",
      "[25]\tvalidation_0-aucpr:0.99380\n",
      "[26]\tvalidation_0-aucpr:0.99426\n",
      "[27]\tvalidation_0-aucpr:0.99442\n",
      "[28]\tvalidation_0-aucpr:0.99448\n",
      "[29]\tvalidation_0-aucpr:0.99463\n",
      "[30]\tvalidation_0-aucpr:0.99481\n",
      "[31]\tvalidation_0-aucpr:0.99500\n",
      "[32]\tvalidation_0-aucpr:0.99501\n",
      "[33]\tvalidation_0-aucpr:0.99531\n",
      "[34]\tvalidation_0-aucpr:0.99533\n",
      "[35]\tvalidation_0-aucpr:0.99546\n",
      "[36]\tvalidation_0-aucpr:0.99588\n",
      "[37]\tvalidation_0-aucpr:0.99580\n",
      "[38]\tvalidation_0-aucpr:0.99576\n",
      "[39]\tvalidation_0-aucpr:0.99583\n",
      "[40]\tvalidation_0-aucpr:0.99578\n",
      "[41]\tvalidation_0-aucpr:0.99583\n",
      "[42]\tvalidation_0-aucpr:0.99586\n",
      "[43]\tvalidation_0-aucpr:0.99583\n",
      "[44]\tvalidation_0-aucpr:0.99596\n",
      "[45]\tvalidation_0-aucpr:0.99596\n",
      "[46]\tvalidation_0-aucpr:0.99599\n",
      "[47]\tvalidation_0-aucpr:0.99599\n",
      "[48]\tvalidation_0-aucpr:0.99597\n",
      "[49]\tvalidation_0-aucpr:0.99597\n",
      "[50]\tvalidation_0-aucpr:0.99595\n",
      "[51]\tvalidation_0-aucpr:0.99594\n",
      "[52]\tvalidation_0-aucpr:0.99597\n",
      "[53]\tvalidation_0-aucpr:0.99597\n",
      "[54]\tvalidation_0-aucpr:0.99597\n",
      "[55]\tvalidation_0-aucpr:0.99597\n"
     ]
    },
    {
     "data": {
      "text/plain": [
       "XGBClassifier(base_score=0.5, booster='gbtree', colsample_bylevel=0.7,\n",
       "              colsample_bynode=0.3, colsample_bytree=0.7, gamma=0.35, gpu_id=-1,\n",
       "              importance_type='gain', interaction_constraints='',\n",
       "              learning_rate=0.1, max_delta_step=0, max_depth=8,\n",
       "              min_child_weight=1, missing=None, monotone_constraints='()',\n",
       "              n_estimators=100, n_jobs=8, num_parallel_tree=1, random_state=0,\n",
       "              reg_alpha=0, reg_lambda=1, scale_pos_weight=1, seed=0,\n",
       "              subsample=1, tree_method='exact', validate_parameters=1,\n",
       "              verbosity=None)"
      ]
     },
     "execution_count": 26,
     "metadata": {},
     "output_type": "execute_result"
    }
   ],
   "source": [
    "# Fitting the model to the training set by using the RandomizedSearchCV best params\n",
    "\n",
    "xgboost_clf=XGBClassifier(objective='binary:logistic',missing=None,booster='gbtree',n_estimators=100,scale_pos_weight=1,\n",
    "                          min_child_weight=1,max_depth=8,learning_rate=0.1,gamma=0.35,\n",
    "                          colsample_bylevel=0.7,colsample_bynode=0.3,colsample_bytree=0.7,seed=0)\n",
    "xgboost_clf.fit(X_train,y_train,verbose=True,early_stopping_rounds=10,eval_metric='aucpr',eval_set=[(X_test,y_test)])"
   ]
  },
  {
   "cell_type": "code",
   "execution_count": 27,
   "metadata": {},
   "outputs": [],
   "source": [
    "# XGBClassifier Predictions on the test set\n",
    "ypred=xgboost_clf.predict(X_test)"
   ]
  },
  {
   "cell_type": "code",
   "execution_count": 28,
   "metadata": {},
   "outputs": [],
   "source": [
    "# Importing the metrics\n",
    "from sklearn.metrics import classification_report,plot_confusion_matrix\n"
   ]
  },
  {
   "cell_type": "code",
   "execution_count": 29,
   "metadata": {
    "scrolled": true
   },
   "outputs": [
    {
     "name": "stdout",
     "output_type": "stream",
     "text": [
      "              precision    recall  f1-score   support\n",
      "\n",
      "       False       0.99      1.00      1.00       984\n",
      "        True       1.00      0.97      0.98       188\n",
      "\n",
      "    accuracy                           0.99      1172\n",
      "   macro avg       1.00      0.98      0.99      1172\n",
      "weighted avg       0.99      0.99      0.99      1172\n",
      "\n"
     ]
    }
   ],
   "source": [
    "# Classification report. As it can be observed, F1 scores are very high,meaning that the xgboost has provided very accurate\n",
    "# classifications (i.e. whether an asteroid is hazardous or not)\n",
    "print(classification_report(y_test,ypred))"
   ]
  },
  {
   "cell_type": "code",
   "execution_count": 30,
   "metadata": {},
   "outputs": [
    {
     "data": {
      "image/png": "[encoded data removed]",
      "text/plain": [
       "<Figure size 576x576 with 2 Axes>"
      ]
     },
     "metadata": {
      "needs_background": "light"
     },
     "output_type": "display_data"
    }
   ],
   "source": [
    "# Confusion Matrix\n",
    "fig, axs = plt.subplots(figsize=(8,8))\n",
    "plot_confusion_matrix(xgboost_clf,X_test,y_test,values_format='d',\n",
    "                      display_labels=['Not Hazardous','Hazardous'],cmap='plasma',ax=axs);\n"
   ]
  }
 ],
 "metadata": {
  "kernelspec": {
   "display_name": "Python 3",
   "language": "python",
   "name": "python3"
  },
  "language_info": {
   "codemirror_mode": {
    "name": "ipython",
    "version": 3
   },
   "file_extension": ".py",
   "mimetype": "text/x-python",
   "name": "python",
   "nbconvert_exporter": "python",
   "pygments_lexer": "ipython3",
   "version": "3.8.5"
  }
 },
 "nbformat": 4,
 "nbformat_minor": 4
}
